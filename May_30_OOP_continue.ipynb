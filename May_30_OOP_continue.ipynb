{
 "cells": [
  {
   "cell_type": "code",
   "execution_count": null,
   "id": "d24fefd7-67e3-44d7-8517-2367063b7edb",
   "metadata": {},
   "outputs": [],
   "source": []
  },
  {
   "cell_type": "code",
   "execution_count": null,
   "id": "c3b43bc9-ef91-4ce3-9323-03b9d902ecc4",
   "metadata": {},
   "outputs": [],
   "source": []
  },
  {
   "cell_type": "code",
   "execution_count": null,
   "id": "1c76007f-86ac-4ab4-8e49-9e1a74199ef5",
   "metadata": {},
   "outputs": [],
   "source": []
  },
  {
   "cell_type": "code",
   "execution_count": 1,
   "id": "e1b45d9a-b6c5-43fc-889a-7f81c17b5210",
   "metadata": {},
   "outputs": [
    {
     "ename": "AttributeError",
     "evalue": "'Info' object has no attribute '_name'",
     "output_type": "error",
     "traceback": [
      "\u001b[1;31m---------------------------------------------------------------------------\u001b[0m",
      "\u001b[1;31mAttributeError\u001b[0m                            Traceback (most recent call last)",
      "Cell \u001b[1;32mIn[1], line 8\u001b[0m\n\u001b[0;32m      6\u001b[0m         \u001b[38;5;28mself\u001b[39m\u001b[38;5;241m.\u001b[39m__add\u001b[38;5;241m=\u001b[39m\u001b[38;5;124m'\u001b[39m\u001b[38;5;124mKathmandu\u001b[39m\u001b[38;5;124m'\u001b[39m\n\u001b[0;32m      7\u001b[0m obj\u001b[38;5;241m=\u001b[39mInfo()\n\u001b[1;32m----> 8\u001b[0m \u001b[38;5;28mprint\u001b[39m(obj\u001b[38;5;241m.\u001b[39m_name)\n",
      "\u001b[1;31mAttributeError\u001b[0m: 'Info' object has no attribute '_name'"
     ]
    }
   ],
   "source": [
    "#private members\n",
    "class Info:\n",
    "    def __init__(self):\n",
    "        self.__name='Ram'\n",
    "        self.__age=34\n",
    "        self.__add='Kathmandu'\n",
    "obj=Info()\n",
    "print(obj.__name)\n",
    "print(obj.__age)\n",
    "print(obj.__add)"
   ]
  },
  {
   "cell_type": "code",
   "execution_count": 9,
   "id": "eed33d00-d0b8-4505-9640-72891c9ec8bc",
   "metadata": {},
   "outputs": [
    {
     "name": "stdout",
     "output_type": "stream",
     "text": [
      "Hello World I am Ram.I am 34\n",
      "Hello World I am Ram.I am from Kathmandu.I am 34\n",
      "Ram\n"
     ]
    }
   ],
   "source": [
    "class Data:\n",
    "    def __init__(self):\n",
    "        self.name='Ram' #public\n",
    "        self._age=34   #protected\n",
    "        self.__add='Kathmandu' #private\n",
    "    def data(self):\n",
    "        print(f'Hello World I am {self.name}.I am from {self.__add}.I am {self._age}')\n",
    "        \n",
    "class Info(Data):\n",
    "    def info(self):\n",
    "        print(f'Hello World I am {self.name}.I am {self._age}')\n",
    "obj= Info()\n",
    "obj.info()\n",
    "obj.data()\n",
    "print(obj.name)\n",
    "        "
   ]
  },
  {
   "cell_type": "code",
   "execution_count": 10,
   "id": "6c2bbcd0-c7be-4f33-97eb-1ae57d5386c9",
   "metadata": {},
   "outputs": [
    {
     "name": "stdout",
     "output_type": "stream",
     "text": [
      "Hello World I am Ram. I am Kathmandu.I am 34\n",
      "Hello World I am Ram.I am from Kathmandu.I am 34\n",
      "Ram\n"
     ]
    }
   ],
   "source": [
    "class Data:\n",
    "    def __init__(self):\n",
    "        self.name='Ram'\n",
    "        self._age=34\n",
    "        self.__add='Kathmandu'\n",
    "    def my_add(self):\n",
    "        return self.__add\n",
    "        \n",
    "    def data(self):\n",
    "        print(f'Hello World I am {self.name}.I am from {self.__add}.I am {self._age}')\n",
    "        \n",
    "class Info(Data):\n",
    "    def info(self):\n",
    "        print(f'Hello World I am {self.name}. I am {super().my_add()}.I am {self._age}')\n",
    "obj = Info()\n",
    "obj.info()\n",
    "obj.data()\n",
    "print(obj.name)"
   ]
  },
  {
   "cell_type": "code",
   "execution_count": 13,
   "id": "096716f4-58f2-4ea2-8ff3-9ca75fb77819",
   "metadata": {},
   "outputs": [
    {
     "name": "stdout",
     "output_type": "stream",
     "text": [
      "Parrot can fly\n",
      "Penguin cannot fly\n",
      "Parrot cannot swim\n",
      "Penguin can swim\n"
     ]
    }
   ],
   "source": [
    "#POLYMERPHISM\n",
    "class Parrot:\n",
    "    def fly(self):\n",
    "        print(\"Parrot can fly\")\n",
    "    def swim(self):\n",
    "        print(\"Parrot cannot swim\")\n",
    "    \n",
    "class Penguin:\n",
    "    def fly(self):\n",
    "        print(\"Penguin cannot fly\")\n",
    "    def swim(self):\n",
    "        print(\"Penguin can swim\")\n",
    "#common interface\n",
    "        \n",
    "def flying_test(bird):\n",
    "    bird.fly()\n",
    "def swim_test(bird):\n",
    "    bird.swim()\n",
    "\n",
    "#instantiate objects\n",
    "\n",
    "green = Parrot()\n",
    "peggi = Penguin()\n",
    "\n",
    "flying_test(green)\n",
    "flying_test(peggi)\n",
    "\n",
    "swim_test(green)\n",
    "swim_test(peggi)\n"
   ]
  },
  {
   "cell_type": "markdown",
   "id": "725cff67-c790-494a-9ca0-c502b36c4632",
   "metadata": {},
   "source": [
    "### POLYMERPHISM\n",
    "class Parrot:\n",
    "    def fly(self):\n",
    "        print(\"Parrot can fly\")\n",
    "    def swim(self):\n",
    "        print(\"Parrot cannot swim\")\n",
    "    \n",
    "class Penguin:\n",
    "    def fly(self):\n",
    "        print(\"Penguin cannot fly\")\n",
    "    def swim(self):\n",
    "        print(\"Penguin can swim\")\n",
    "        \n",
    "<!-- common interface: -->\n",
    "\n",
    "def flying_test(bird):\n",
    "    bird.fly()\n",
    "\n",
    "def swim_test(bird):\n",
    "    bird.swim()\n",
    "#instantiate objects \n",
    "\n",
    "green = Parrot()\n",
    "peggi = Penguin()\n",
    "\n",
    "flying_test(green)\n",
    "flying_test(peggi)\n",
    "\n",
    "swim_test(green)\n",
    "swim_test(peggi)"
   ]
  },
  {
   "cell_type": "code",
   "execution_count": 16,
   "id": "dd38a540-5d34-4929-bee0-3577db03251d",
   "metadata": {},
   "outputs": [
    {
     "name": "stdout",
     "output_type": "stream",
     "text": [
      "ram\n",
      "ram\n",
      "ram\n"
     ]
    }
   ],
   "source": [
    "# str method\n",
    "class Info:\n",
    "    def __init__(self):\n",
    "        self.name='ram'\n",
    "        self.age=45\n",
    "        self.add='ktm'\n",
    "        \n",
    "    def __str__(self):   #only returns string\n",
    "        return self.name\n",
    "obj=Info()\n",
    "print(obj)\n",
    "print(str(obj))\n",
    "print(obj.__str__())\n",
    "        "
   ]
  },
  {
   "cell_type": "code",
   "execution_count": 17,
   "id": "8e5b7d2b-4d14-448a-b2f7-b683e1fb630e",
   "metadata": {},
   "outputs": [
    {
     "ename": "SyntaxError",
     "evalue": "incomplete input (3138443649.py, line 10)",
     "output_type": "error",
     "traceback": [
      "\u001b[1;36m  Cell \u001b[1;32mIn[17], line 10\u001b[1;36m\u001b[0m\n\u001b[1;33m    \u001b[0m\n\u001b[1;37m    ^\u001b[0m\n\u001b[1;31mSyntaxError\u001b[0m\u001b[1;31m:\u001b[0m incomplete input\n"
     ]
    }
   ],
   "source": [
    "#operator overloading\n",
    "class Point:\n",
    "    def __init_(self, x=0, y=0):\n",
    "        self.x=x\n",
    "        self.y=y\n",
    "    def __str__(self):\n",
    "        return'({0},{1}'.format(self.x,self.y)\n",
    "    def __add__(self,other):\n",
    "        x=self.x+other.x\n",
    "        y=self.y+other.y\n",
    "        return Point(x,y)\n",
    "p1=Point(2,3)\n",
    "p2=Point(-1,2)\n",
    "print(p1+p2)\n",
    "\n",
    "    \n",
    "    "
   ]
  },
  {
   "cell_type": "code",
   "execution_count": null,
   "id": "c651c075-c2a8-4c8f-9567-a448fe7e311e",
   "metadata": {},
   "outputs": [],
   "source": []
  }
 ],
 "metadata": {
  "kernelspec": {
   "display_name": "Python 3 (ipykernel)",
   "language": "python",
   "name": "python3"
  },
  "language_info": {
   "codemirror_mode": {
    "name": "ipython",
    "version": 3
   },
   "file_extension": ".py",
   "mimetype": "text/x-python",
   "name": "python",
   "nbconvert_exporter": "python",
   "pygments_lexer": "ipython3",
   "version": "3.11.7"
  }
 },
 "nbformat": 4,
 "nbformat_minor": 5
}
