{
 "cells": [
  {
   "cell_type": "code",
   "execution_count": 1,
   "id": "801b07e7-0856-4743-8ab5-d1bbcfcaefae",
   "metadata": {},
   "outputs": [
    {
     "name": "stdout",
     "output_type": "stream",
     "text": [
      "H\n",
      "e\n",
      "l\n",
      "l\n",
      "o\n",
      " \n",
      "W\n",
      "o\n",
      "r\n",
      "l\n",
      "d\n"
     ]
    }
   ],
   "source": [
    "a='Hello World'\n",
    "for i in a:\n",
    "    print(i)"
   ]
  },
  {
   "cell_type": "code",
   "execution_count": 2,
   "id": "66cca456-4141-4137-a091-d382dd23f4fc",
   "metadata": {},
   "outputs": [
    {
     "name": "stdout",
     "output_type": "stream",
     "text": [
      "H Hello World\n",
      "e Hello World\n",
      "l Hello World\n",
      "l Hello World\n",
      "o Hello World\n",
      "  Hello World\n",
      "W Hello World\n",
      "o Hello World\n",
      "r Hello World\n",
      "l Hello World\n",
      "d Hello World\n"
     ]
    }
   ],
   "source": [
    "a='Hello World'\n",
    "for i in a:\n",
    "    print(i,'Hello World')"
   ]
  },
  {
   "cell_type": "code",
   "execution_count": 6,
   "id": "e1af54aa-2eac-42cb-8a25-d444b66b1e3a",
   "metadata": {},
   "outputs": [
    {
     "name": "stdout",
     "output_type": "stream",
     "text": [
      "Hello World I am Python"
     ]
    }
   ],
   "source": [
    "a=\"Hello World. I am Python\"\n",
    "for i in a:\n",
    "    if i!=\".\":\n",
    "        print(i,end=\"\")"
   ]
  },
  {
   "cell_type": "code",
   "execution_count": 10,
   "id": "6390f485-c8e9-4a84-9fb5-b271b4c541ab",
   "metadata": {},
   "outputs": [
    {
     "name": "stdout",
     "output_type": "stream",
     "text": [
      "Hello World I am Python"
     ]
    }
   ],
   "source": [
    "a=\"Hello World. I am Python!\"\n",
    "for i in a:\n",
    "    if i!=\".\" and i!=\"!\":\n",
    "        print(i,end=\"\")"
   ]
  },
  {
   "cell_type": "code",
   "execution_count": null,
   "id": "992e1924-ba4b-4cd3-b1ec-b2b2b2e02bd2",
   "metadata": {},
   "outputs": [],
   "source": [
    "#CONTROL STATEMENT(#loop lai aafno hisab le control garna ko lagi)\n",
    "\n",
    "#break=\n",
    "#continue\n",
    "#pass"
   ]
  },
  {
   "cell_type": "code",
   "execution_count": 3,
   "id": "faf714a6-e592-4d5a-a542-200364b04887",
   "metadata": {},
   "outputs": [],
   "source": [
    "#break\n",
    "#loop lai end/interupt\n",
    "for i in range(10):\n",
    "    if i == 5:\n",
    "        break\n",
    "        print(i)\n",
    "        \n"
   ]
  },
  {
   "cell_type": "code",
   "execution_count": 2,
   "id": "a180c8c7-f226-46e4-b9fc-2196b243ee98",
   "metadata": {},
   "outputs": [
    {
     "name": "stdout",
     "output_type": "stream",
     "text": [
      "Hello World"
     ]
    }
   ],
   "source": [
    "a=\"Hello World. I am Python!\"\n",
    "for i in a:\n",
    "    if i!=\".\" and i!=\"!\":\n",
    "        print(i,end=\"\")\n",
    "    else:\n",
    "        break"
   ]
  },
  {
   "cell_type": "code",
   "execution_count": 4,
   "id": "212fb7e0-cecc-4440-bc2c-4795d313f667",
   "metadata": {},
   "outputs": [],
   "source": [
    "a=\"Hello World. I am Python!\"\n",
    "for i in a:\n",
    "    if i!=\".\":\n",
    "        break\n",
    "    print(i,end=\"\")\n",
    "   "
   ]
  },
  {
   "cell_type": "code",
   "execution_count": 12,
   "id": "8ad7e040-45e9-4d5d-bcef-628b5af8401a",
   "metadata": {},
   "outputs": [],
   "source": [
    "a=\"Hello World. I am Python!\"\n",
    "for i in a:\n",
    "    if i!=\".\":\n",
    "        break\n",
    "    print(i,end=\"\")"
   ]
  },
  {
   "cell_type": "code",
   "execution_count": 4,
   "id": "8626fc4a-e19b-4dac-9940-a9020cbe6ba7",
   "metadata": {},
   "outputs": [
    {
     "name": "stdout",
     "output_type": "stream",
     "text": [
      "0 1 2 3 4 6 7 8 9 "
     ]
    }
   ],
   "source": [
    "#continue(yelai skip gara aru chai continue gara)(break ko opposite)===\n",
    "#break le stop gara#continue le tyo bahek run gara, yo value !=\n",
    "for i in range(10):\n",
    "    if i==5:\n",
    "        continue\n",
    "    print(i, end=\" \")"
   ]
  },
  {
   "cell_type": "code",
   "execution_count": 6,
   "id": "6bb95ca9-2b96-4336-a997-c5854b296429",
   "metadata": {},
   "outputs": [
    {
     "name": "stdout",
     "output_type": "stream",
     "text": [
      "5\n",
      "10\n",
      "15\n",
      "20\n",
      "25\n",
      "30\n",
      "35\n",
      "40\n",
      "45\n",
      "50\n"
     ]
    }
   ],
   "source": [
    "for i in range(1,51):\n",
    "    if i%5 !=0:\n",
    "        continue\n",
    "    print(i)\n"
   ]
  },
  {
   "cell_type": "code",
   "execution_count": 8,
   "id": "99f62ebf-52b7-4601-a0b6-fb4fe4957e33",
   "metadata": {},
   "outputs": [
    {
     "name": "stdout",
     "output_type": "stream",
     "text": [
      "Hello World I am Python"
     ]
    }
   ],
   "source": [
    "a=\"Hello World. I am Python\"\n",
    "for i in a:\n",
    "    if i ==\".\":\n",
    "        continue\n",
    "    print(i,end=\"\")\n"
   ]
  },
  {
   "cell_type": "code",
   "execution_count": 10,
   "id": "7ee45408-adee-47e1-9adf-7f9dd3b90c2d",
   "metadata": {},
   "outputs": [],
   "source": [
    "#pass(operation run garauxa, tara kei ni operation run hudaina)\n",
    "for i in range(5):\n",
    "    pass"
   ]
  },
  {
   "cell_type": "code",
   "execution_count": 11,
   "id": "9a8620d2-7dff-42da-8784-47577bd6aab3",
   "metadata": {},
   "outputs": [],
   "source": [
    "a=10\n",
    "if a%2==0:\n",
    "    pass"
   ]
  },
  {
   "cell_type": "code",
   "execution_count": null,
   "id": "452a30c3-8ffd-4b0c-aae6-8f9966c9e4eb",
   "metadata": {},
   "outputs": [],
   "source": [
    "#While Loop"
   ]
  },
  {
   "cell_type": "code",
   "execution_count": null,
   "id": "1e6b7a5a-c7be-405a-8856-b492da47707e",
   "metadata": {},
   "outputs": [],
   "source": [
    "while<condition>:\n",
    "    <operation>"
   ]
  },
  {
   "cell_type": "code",
   "execution_count": 1,
   "id": "92119373-e5c6-484b-82bb-8c3a41cd7eb8",
   "metadata": {},
   "outputs": [
    {
     "name": "stdout",
     "output_type": "stream",
     "text": [
      "Hello World\n",
      "Hello World\n",
      "Hello World\n",
      "Hello World\n",
      "Hello World\n"
     ]
    }
   ],
   "source": [
    "a=0\n",
    "while a<5:\n",
    "    print(\"Hello World\")\n",
    "    a=a+1"
   ]
  },
  {
   "cell_type": "code",
   "execution_count": 2,
   "id": "1720035c-bb10-44b5-afc5-704565b2e60e",
   "metadata": {},
   "outputs": [
    {
     "name": "stdout",
     "output_type": "stream",
     "text": [
      "0\n",
      "1\n",
      "2\n",
      "3\n",
      "4\n",
      "5\n"
     ]
    }
   ],
   "source": [
    "i=0\n",
    "while i<=5:\n",
    "    print(i)\n",
    "    i=i+1\n",
    "    "
   ]
  },
  {
   "cell_type": "code",
   "execution_count": 4,
   "id": "a5721914-33fc-4964-9517-f1651f58c3c0",
   "metadata": {},
   "outputs": [
    {
     "name": "stdout",
     "output_type": "stream",
     "text": [
      "1 Hello World\n",
      "2 Hello World\n",
      "3 Hello World\n",
      "4 Hello World\n"
     ]
    }
   ],
   "source": [
    "a=1\n",
    "while a<5:\n",
    "    print(a,\"Hello World\")\n",
    "    a=a+1"
   ]
  },
  {
   "cell_type": "code",
   "execution_count": 5,
   "id": "00e4db99-1251-4d36-98cb-58819bf1bfac",
   "metadata": {},
   "outputs": [
    {
     "name": "stdout",
     "output_type": "stream",
     "text": [
      "1 Hello World\n",
      "1.5 Hello World\n",
      "2.0 Hello World\n",
      "2.5 Hello World\n",
      "3.0 Hello World\n",
      "3.5 Hello World\n",
      "4.0 Hello World\n",
      "4.5 Hello World\n"
     ]
    }
   ],
   "source": [
    "a=1\n",
    "while a<5:\n",
    "    print(a,\"Hello World\")\n",
    "    a=a+0.5"
   ]
  },
  {
   "cell_type": "code",
   "execution_count": null,
   "id": "e8966d59-3934-4118-80b0-a73c9186ffaf",
   "metadata": {},
   "outputs": [],
   "source": [
    "i=1\n",
    "x=int(input('Enter x= '))\n",
    "while i<=10:\n",
    "    print(x,\"*\", i,\" =\",i*x)\n",
    "    \n",
    "i    "
   ]
  },
  {
   "cell_type": "code",
   "execution_count": 1,
   "id": "1bc33cce-0ad6-44d3-a057-ab4e03ac74a8",
   "metadata": {},
   "outputs": [
    {
     "name": "stdin",
     "output_type": "stream",
     "text": [
      "Enter n= 2\n"
     ]
    },
    {
     "name": "stdout",
     "output_type": "stream",
     "text": [
      "1\n",
      "2\n"
     ]
    }
   ],
   "source": [
    "i=1\n",
    "fac=1\n",
    "n=int(input('Enter n='))\n",
    "while i<=n:\n",
    "    fac=fac*i\n",
    "    i=i+1\n",
    "    print(fac)\n",
    "    \n",
    "\n",
    "    "
   ]
  },
  {
   "cell_type": "code",
   "execution_count": null,
   "id": "c37cdb5e-517a-4b39-b923-4b1571e21a2f",
   "metadata": {},
   "outputs": [],
   "source": [
    "#break in while"
   ]
  },
  {
   "cell_type": "code",
   "execution_count": 2,
   "id": "5b7cecc1-91cb-4374-bafd-3663ff6420af",
   "metadata": {},
   "outputs": [
    {
     "name": "stdout",
     "output_type": "stream",
     "text": [
      "0\n",
      "1\n",
      "2\n",
      "3\n",
      "4\n"
     ]
    }
   ],
   "source": [
    "i=0\n",
    "while i<=10:\n",
    "    if i==5:\n",
    "        break\n",
    "    print(i)\n",
    "    i=i+1\n"
   ]
  },
  {
   "cell_type": "code",
   "execution_count": 1,
   "id": "17beddf8-a77d-4c51-9e8f-395197922516",
   "metadata": {},
   "outputs": [],
   "source": [
    "i=0\n",
    "while i<=10:\n",
    "    if i!=5:\n",
    "        break\n",
    "    print(i)\n",
    "    i=i+1"
   ]
  },
  {
   "cell_type": "code",
   "execution_count": null,
   "id": "603fce1a-d1ea-4b22-ba43-86d1bdb3b68a",
   "metadata": {},
   "outputs": [
    {
     "name": "stdout",
     "output_type": "stream",
     "text": [
      "0\n",
      "1\n",
      "2\n",
      "3\n",
      "4\n"
     ]
    }
   ],
   "source": [
    "i=0\n",
    "while i<=10:\n",
    "    if i==5:\n",
    "        continue\n",
    "    print(i)\n",
    "    i=i+1"
   ]
  },
  {
   "cell_type": "code",
   "execution_count": null,
   "id": "174dbd81-68c4-410f-ba13-ba4800a3d141",
   "metadata": {},
   "outputs": [],
   "source": [
    "i=0\n",
    "while i<=10:\n",
    "    if i==5:\n",
    "        continue\n",
    "    print(i)\n",
    "    i=i+1"
   ]
  },
  {
   "cell_type": "code",
   "execution_count": 5,
   "id": "aedc25e6-55c2-4685-a4bc-b4be2fc0a424",
   "metadata": {},
   "outputs": [
    {
     "name": "stdout",
     "output_type": "stream",
     "text": [
      "0     1     2     3     4     6     7     8     9     10     "
     ]
    }
   ],
   "source": [
    "i=0\n",
    "while i<=10:\n",
    "    if i==5:\n",
    "        i=i+1\n",
    "        continue\n",
    "    print(i, end=\"     \")\n",
    "    i=i+1"
   ]
  },
  {
   "cell_type": "markdown",
   "id": "d7a5b9d6-9072-4ea7-a534-54b71ed154d8",
   "metadata": {},
   "source": [
    "## WAP to if the given number is prime or composite\n",
    "i=1\n",
    "x=int(input('Enter value x='))\n",
    "while i==x:\n",
    "    if x!=x%2:\n",
    "        print('Prime number')\n",
    "    elif x!=x%3:\n",
    "        print('prime number')\n",
    "    elif x!=x%4:\n",
    "        print('prime number')\n",
    "    elif x!=x%5('prime number'):\n",
    "        print('prime number')\n",
    "    elif x!=x%6:\n",
    "        print('prime number')\n",
    "else:\n",
    "    print('composite')\n",
    "i=i+1\n",
    "\n",
    "    \n",
    " \n"
   ]
  },
  {
   "cell_type": "code",
   "execution_count": 5,
   "id": "19fff117-940e-4efb-8340-7095a4b04cdb",
   "metadata": {},
   "outputs": [
    {
     "name": "stdin",
     "output_type": "stream",
     "text": [
      "Enter value x= 7\n"
     ]
    },
    {
     "name": "stdout",
     "output_type": "stream",
     "text": [
      "composite\n",
      "composite\n",
      "composite\n",
      "composite\n",
      "composite\n",
      "composite\n",
      "composite\n",
      "composite\n",
      "composite\n"
     ]
    }
   ],
   "source": [
    "i=2\n",
    "x=int(input('Enter value x='))\n",
    "while i<=10:\n",
    "    i=i+1\n",
    "    if x%2!=0:\n",
    "        print('composite')\n",
    "    elif x%3!=0:\n",
    "        print('composite')\n",
    "    elif x%4!=0:\n",
    "        print('composite')\n",
    "    elif x%5!=0:\n",
    "        print('composite')\n",
    "    elif x%6!=0:\n",
    "        print('composite')\n",
    "        break\n",
    "    else:\n",
    "        print('prime')\n",
    "i=i+1\n",
    "\n",
    "    \n",
    "    "
   ]
  },
  {
   "cell_type": "code",
   "execution_count": null,
   "id": "ca7418f4-f931-4527-9c11-18fc296d936b",
   "metadata": {},
   "outputs": [],
   "source": []
  }
 ],
 "metadata": {
  "kernelspec": {
   "display_name": "Python 3 (ipykernel)",
   "language": "python",
   "name": "python3"
  },
  "language_info": {
   "codemirror_mode": {
    "name": "ipython",
    "version": 3
   },
   "file_extension": ".py",
   "mimetype": "text/x-python",
   "name": "python",
   "nbconvert_exporter": "python",
   "pygments_lexer": "ipython3",
   "version": "3.11.7"
  }
 },
 "nbformat": 4,
 "nbformat_minor": 5
}
