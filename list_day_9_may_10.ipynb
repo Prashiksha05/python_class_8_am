{
 "cells": [
  {
   "cell_type": "code",
   "execution_count": null,
   "id": "2aab7fde-d0a8-4458-8e9f-79a92df51871",
   "metadata": {},
   "outputs": [],
   "source": [
    "#python collection\n",
    "#list\n",
    "#tuple\n",
    "#dict\n",
    "#set"
   ]
  },
  {
   "cell_type": "code",
   "execution_count": null,
   "id": "0a2f8378-93e1-43e1-9556-321674859a48",
   "metadata": {},
   "outputs": [],
   "source": [
    "# #list\n",
    "# ordered\n",
    "# mutable\n",
    "# multiple and duplicate data\n",
    "# indexing"
   ]
  },
  {
   "cell_type": "code",
   "execution_count": null,
   "id": "dcf0ef16-a90c-43e6-87ae-81fc6da5d82d",
   "metadata": {},
   "outputs": [],
   "source": []
  },
  {
   "cell_type": "code",
   "execution_count": null,
   "id": "0e211d86-65c9-42c2-9a9c-d9d121e4da79",
   "metadata": {},
   "outputs": [],
   "source": []
  },
  {
   "cell_type": "code",
   "execution_count": null,
   "id": "2101d1a0-478f-466d-a85f-7991e2106b31",
   "metadata": {},
   "outputs": [],
   "source": [
    "a=list()\n",
    "a=[]"
   ]
  },
  {
   "cell_type": "code",
   "execution_count": 1,
   "id": "03d0bb5e-85fb-4197-a2ba-fb33a299e946",
   "metadata": {},
   "outputs": [
    {
     "name": "stdout",
     "output_type": "stream",
     "text": [
      "<class 'list'>\n",
      "<class 'list'>\n"
     ]
    }
   ],
   "source": [
    "a=['Apple','Ball', 'cat','dog']\n",
    "b=[0,1,2,3,4,5]\n",
    "print(type(a))\n",
    "print(type(b))"
   ]
  },
  {
   "cell_type": "code",
   "execution_count": 4,
   "id": "ca94c7b4-0b8b-4b13-91ea-fcb3a15ca99a",
   "metadata": {},
   "outputs": [
    {
     "name": "stdout",
     "output_type": "stream",
     "text": [
      "apple\n",
      "['apple', 'ball', 'cat', 'dog', 'fish']\n",
      "['apple', 'cat', 'fish']\n"
     ]
    }
   ],
   "source": [
    "a=['apple', 'ball', 'cat', 'dog','fish', 'apple']\n",
    "print(a[0])\n",
    "print(a[0:5])\n",
    "print(a[0:5:2])"
   ]
  },
  {
   "cell_type": "code",
   "execution_count": 5,
   "id": "1649b206-42ef-4a9b-8de6-5fe69bd7430e",
   "metadata": {},
   "outputs": [
    {
     "name": "stdout",
     "output_type": "stream",
     "text": [
      "[1, 2, 3, 4, 5, 6, 7, 8, 9, 10]\n"
     ]
    }
   ],
   "source": [
    "#concat\n",
    "a=[1,2,3,4,5]\n",
    "b=[6,7,8,9,10]\n",
    "c=a+b\n",
    "print(c)\n"
   ]
  },
  {
   "cell_type": "code",
   "execution_count": 6,
   "id": "ae81c8ed-a0e0-4e79-b7ef-f648b48771e0",
   "metadata": {},
   "outputs": [
    {
     "name": "stdout",
     "output_type": "stream",
     "text": [
      "[1, 2, 3, 4, 5, 1, 2, 3, 4, 5]\n"
     ]
    }
   ],
   "source": [
    "#enlargement(multiply)\n",
    "a=[1,2,3,4,5]\n",
    "print(a*2)"
   ]
  },
  {
   "cell_type": "code",
   "execution_count": null,
   "id": "b5dce014-fcd0-449e-a763-71c74feaa3dd",
   "metadata": {},
   "outputs": [],
   "source": [
    "# append()=list create garne, adds in the list of variabble\n",
    "# insert()\n",
    "# insert()"
   ]
  },
  {
   "cell_type": "code",
   "execution_count": 7,
   "id": "5656d48c-7f6a-4e27-b90e-eb8a259c617b",
   "metadata": {},
   "outputs": [
    {
     "name": "stdout",
     "output_type": "stream",
     "text": [
      "['apple', 'ball']\n"
     ]
    }
   ],
   "source": [
    "a=[]\n",
    "a.append('apple')\n",
    "a.append('ball')\n",
    "print(a)"
   ]
  },
  {
   "cell_type": "code",
   "execution_count": 11,
   "id": "33d56c90-d09f-4ca2-9ec8-55ecdc684a0f",
   "metadata": {},
   "outputs": [
    {
     "name": "stdin",
     "output_type": "stream",
     "text": [
      "eneter n= 5\n",
      "enter x= 1\n",
      "enter x= 2\n",
      "enter x= 3\n",
      "enter x= 4\n",
      "enter x= 5\n"
     ]
    },
    {
     "name": "stdout",
     "output_type": "stream",
     "text": [
      "[1, 2, 3, 4, 5]\n"
     ]
    }
   ],
   "source": [
    "l=[]\n",
    "n=int(input('eneter n='))\n",
    "for i in range(n):\n",
    "    x=int(input('enter x='))\n",
    "    l.append(x)\n",
    "print(l)"
   ]
  },
  {
   "cell_type": "code",
   "execution_count": 16,
   "id": "0830ddf6-de52-4d1d-8853-9bb40b15770c",
   "metadata": {},
   "outputs": [
    {
     "name": "stdout",
     "output_type": "stream",
     "text": [
      "Min value= 1\n",
      "max value= 5\n",
      "sum value= 15\n",
      "[1, 2, 3, 4, 5]\n",
      "[5, 4, 3, 2, 1]\n"
     ]
    }
   ],
   "source": [
    "print('Min value=',min(l))\n",
    "print('max value=',max(l))\n",
    "print('sum value=', sum(l))\n",
    "l.sort()\n",
    "print(l)\n",
    "l.reverse()\n",
    "print(l)\n",
    "\n"
   ]
  },
  {
   "cell_type": "code",
   "execution_count": 21,
   "id": "6e1300e7-00d5-47e7-ae56-2abd6a0fd5eb",
   "metadata": {},
   "outputs": [
    {
     "name": "stdin",
     "output_type": "stream",
     "text": [
      "eneter n= 5\n",
      "enter x= ram\n",
      "enter x= shyam\n",
      "enter x= hariista\n",
      "enter x= sita\n",
      "enter x= gita\n"
     ]
    }
   ],
   "source": [
    "l=[]\n",
    "n=int(input('eneter n='))\n",
    "for i in range(n):\n",
    "    x=input('enter x=')\n",
    "    l.append(x)\n"
   ]
  },
  {
   "cell_type": "code",
   "execution_count": 22,
   "id": "b329aa29-cb64-40d5-8754-489ba8319ba3",
   "metadata": {},
   "outputs": [
    {
     "name": "stdout",
     "output_type": "stream",
     "text": [
      "['gita', 'hariista', 'ram', 'shyam', 'sita']\n"
     ]
    }
   ],
   "source": [
    "l.sort()\n",
    "print(l)"
   ]
  },
  {
   "cell_type": "code",
   "execution_count": 1,
   "id": "8021c1ad-0cfa-4300-80dc-ed220e7be056",
   "metadata": {},
   "outputs": [],
   "source": [
    "#insert()\n",
    "a=['gita', 'hari', 'ram', 'shyam', 'sita']\n",
    "a.insert(1,'harry')\n",
    "\n"
   ]
  },
  {
   "cell_type": "code",
   "execution_count": 2,
   "id": "450475dc-9a40-45ed-acf8-11a6bed4165a",
   "metadata": {},
   "outputs": [
    {
     "data": {
      "text/plain": [
       "['gita', 'harry', 'hari', 'ram', 'shyam', 'sita']"
      ]
     },
     "execution_count": 2,
     "metadata": {},
     "output_type": "execute_result"
    }
   ],
   "source": [
    "a=['gita', 'hari', 'ram', 'shyam', 'sita']\n",
    "a.insert(1,'harry')\n",
    "a"
   ]
  },
  {
   "cell_type": "code",
   "execution_count": 3,
   "id": "0f1b533d-474f-4499-a0ad-0b7035fb2588",
   "metadata": {},
   "outputs": [
    {
     "name": "stdout",
     "output_type": "stream",
     "text": [
      "['gita', 'hari', 'ram', 'shyam', 'sita', 1, 2, 3, 4, 5]\n"
     ]
    }
   ],
   "source": [
    "a=['gita', 'hari', 'ram', 'shyam', 'sita']\n",
    "b=[1,2,3,4,5]\n",
    "a.extend(b)\n",
    "print(a)\n"
   ]
  },
  {
   "cell_type": "code",
   "execution_count": 5,
   "id": "70f9dbce-e588-4750-beeb-df27e4e37563",
   "metadata": {},
   "outputs": [
    {
     "data": {
      "text/plain": [
       "['Nita', 'hari', 'ram', 'shyam', 'sita']"
      ]
     },
     "execution_count": 5,
     "metadata": {},
     "output_type": "execute_result"
    }
   ],
   "source": [
    "#update\n",
    "a=['gita', 'hari', 'ram', 'shyam', 'sita']\n",
    "a[0]='Nita'\n",
    "a\n"
   ]
  },
  {
   "cell_type": "code",
   "execution_count": 6,
   "id": "415abf4d-24d2-4b1d-a2a9-43c8e085e9e8",
   "metadata": {},
   "outputs": [
    {
     "data": {
      "text/plain": [
       "['jack', 'jonh', 'ram', 'shyam', 'sita']"
      ]
     },
     "execution_count": 6,
     "metadata": {},
     "output_type": "execute_result"
    }
   ],
   "source": [
    "a=['gita', 'hari', 'ram', 'shyam', 'sita']\n",
    "a[0:2]=['jack','jonh']\n",
    "#(value update hunxa, different index huda,replace garxa value)\n",
    "a"
   ]
  },
  {
   "cell_type": "code",
   "execution_count": 9,
   "id": "69d0da93-fb3d-400c-8bf5-cc1aea5f5ae9",
   "metadata": {},
   "outputs": [
    {
     "data": {
      "text/plain": [
       "['steve', 'cat', 'dog', 'bill', 'gita', 'hari', 'ram', 'shyam', 'sita']"
      ]
     },
     "execution_count": 9,
     "metadata": {},
     "output_type": "execute_result"
    }
   ],
   "source": [
    "# insert multiple values inside certain index\n",
    "#insert values in midde\n",
    "a=['gita', 'hari', 'ram', 'shyam', 'sita']\n",
    "a[0:0]=['steve', 'bill']\n",
    "#0 ko place ma values add garyo., same index diyo vane add garxa(value add)\n",
    "a[1:1]=['cat','dog']\n",
    "a"
   ]
  },
  {
   "cell_type": "code",
   "execution_count": 15,
   "id": "089989a9-fc1f-44b7-ba30-72e899cce916",
   "metadata": {},
   "outputs": [
    {
     "data": {
      "text/plain": [
       "['harry', 'hari', 'ram', 'shyam']"
      ]
     },
     "execution_count": 15,
     "metadata": {},
     "output_type": "execute_result"
    }
   ],
   "source": [
    "#for delete del remove() pop()\n",
    "a=['gita','harry','hari','ram','shyam']\n",
    "del a[0]\n",
    "a\n"
   ]
  },
  {
   "cell_type": "code",
   "execution_count": 16,
   "id": "536f4d17-c527-4f4f-a64e-eea511e25ec0",
   "metadata": {},
   "outputs": [
    {
     "data": {
      "text/plain": [
       "['harry', 'hari', 'ram', 'shyam']"
      ]
     },
     "execution_count": 16,
     "metadata": {},
     "output_type": "execute_result"
    }
   ],
   "source": [
    "a=['gita','harry','hari','ram','shyam']\n",
    "del a[0:1]\n",
    "a"
   ]
  },
  {
   "cell_type": "code",
   "execution_count": 17,
   "id": "e75d8fd5-068b-4d16-84d2-1f18632f8ba9",
   "metadata": {},
   "outputs": [
    {
     "data": {
      "text/plain": [
       "['hari', 'ram', 'shyam']"
      ]
     },
     "execution_count": 17,
     "metadata": {},
     "output_type": "execute_result"
    }
   ],
   "source": [
    "a=['gita','harry','hari','ram','shyam']\n",
    "del a[0:2]\n",
    "a"
   ]
  },
  {
   "cell_type": "code",
   "execution_count": 18,
   "id": "347d2539-73de-4ce4-8e20-0a06ea9a5298",
   "metadata": {},
   "outputs": [
    {
     "data": {
      "text/plain": [
       "['harry', 'hari', 'ram', 'shyam']"
      ]
     },
     "execution_count": 18,
     "metadata": {},
     "output_type": "execute_result"
    }
   ],
   "source": [
    "#remove le euta variable matra remove garna milxa\n",
    "a=['gita','harry','hari','ram','shyam']\n",
    "a.remove('gita')\n",
    "a"
   ]
  },
  {
   "cell_type": "code",
   "execution_count": 21,
   "id": "a9610d54-2e77-40ae-88ba-7a79aad6d901",
   "metadata": {},
   "outputs": [
    {
     "name": "stdout",
     "output_type": "stream",
     "text": [
      "['gita', 'hari', 'ram', 'shyam']\n",
      "harry\n"
     ]
    }
   ],
   "source": [
    "#pop=pop le value lai move garna sakxa\n",
    "a=['gita','harry','hari','ram','shyam']\n",
    "b=a.pop(1)\n",
    "print(a)\n",
    "print(b)"
   ]
  },
  {
   "cell_type": "code",
   "execution_count": 28,
   "id": "2627f659-88ca-4b11-a4ad-132bb88a0f16",
   "metadata": {},
   "outputs": [
    {
     "name": "stdout",
     "output_type": "stream",
     "text": [
      "gita\n",
      "harry\n",
      "hari\n",
      "ram\n",
      "shyam\n"
     ]
    }
   ],
   "source": [
    "a=['gita','harry','hari','ram','shyam']\n",
    "for i in a:\n",
    "    print(i)\n",
    "  "
   ]
  },
  {
   "cell_type": "code",
   "execution_count": 32,
   "id": "0900ed44-4f96-4f83-b4c6-35ba596ba9e7",
   "metadata": {},
   "outputs": [
    {
     "data": {
      "text/plain": [
       "5"
      ]
     },
     "execution_count": 32,
     "metadata": {},
     "output_type": "execute_result"
    }
   ],
   "source": [
    "a= ['gita','harry','hari','ram','shyam']\n",
    "l= len(a)\n",
    "l"
   ]
  },
  {
   "cell_type": "code",
   "execution_count": 34,
   "id": "52ab20c5-aa2c-434f-a864-6881cea9f5bc",
   "metadata": {},
   "outputs": [
    {
     "name": "stdout",
     "output_type": "stream",
     "text": [
      "gita\n",
      "harry\n",
      "hari\n",
      "ram\n",
      "shyam\n"
     ]
    }
   ],
   "source": [
    "i=0\n",
    "a= ['gita','harry','hari','ram','shyam']\n",
    "l= len(a)\n",
    "while i<l:\n",
    "    print(a[i])\n",
    "    i=i+1"
   ]
  },
  {
   "cell_type": "code",
   "execution_count": 35,
   "id": "fb93940c-4fc6-49ec-b81a-ae2b96e559e7",
   "metadata": {},
   "outputs": [
    {
     "data": {
      "text/plain": [
       "['gita', 'harry', 'hari', 'shyam', 'ram']"
      ]
     },
     "execution_count": 35,
     "metadata": {},
     "output_type": "execute_result"
    }
   ],
   "source": [
    "#remove multiple values\n",
    "a= ['gita','harry','hari','ram','shyam','ram']\n",
    "a.remove('ram')\n",
    "a"
   ]
  },
  {
   "cell_type": "code",
   "execution_count": 36,
   "id": "3677406f-dda3-43bb-8485-45de19c8612e",
   "metadata": {},
   "outputs": [],
   "source": [
    "i=3,6\n",
    "a= ['gita','harry','hari','ram','shyam','ram']\n",
    "del a[3]\n",
    "#del command sequence ma xa vane matra delete garne, other wise euta delete garepaxi index change hunxa, del le one at a time matra remove garna milxa\n"
   ]
  },
  {
   "cell_type": "code",
   "execution_count": 37,
   "id": "55145d42-401f-4111-9319-3bb139ca53f9",
   "metadata": {},
   "outputs": [
    {
     "name": "stdout",
     "output_type": "stream",
     "text": [
      "['gita', 'harry', 'hari', 'shyam']\n"
     ]
    }
   ],
   "source": [
    "#remove multiple values\n",
    "a= ['gita','harry','hari','ram','shyam','ram']\n",
    "c=a.count('ram')\n",
    "for i in range(c):\n",
    "    a.remove('ram')\n",
    "print(a)"
   ]
  },
  {
   "cell_type": "code",
   "execution_count": 42,
   "id": "69144ce8-7424-4ec6-be5e-11ca7bd495ad",
   "metadata": {},
   "outputs": [
    {
     "name": "stdout",
     "output_type": "stream",
     "text": [
      "chaaa 2\n"
     ]
    }
   ],
   "source": [
    "#value search \n",
    "a= ['gita','harry','hari','ram','shyam','ram']\n",
    "if 'ram' in a:\n",
    "    print('chaaa',a.count('ram'))\n",
    "else:\n",
    "    print('chainaaaa')\n",
    "    "
   ]
  },
  {
   "cell_type": "code",
   "execution_count": 43,
   "id": "f533684f-e7a1-4a20-938e-dff4f68bfeb9",
   "metadata": {},
   "outputs": [
    {
     "data": {
      "text/plain": [
       "3"
      ]
     },
     "execution_count": 43,
     "metadata": {},
     "output_type": "execute_result"
    }
   ],
   "source": [
    "#kun kun index ma variable cha vanera \n",
    "a= ['gita','harry','hari','ram','shyam','ram']\n",
    "a.index('ram')"
   ]
  },
  {
   "cell_type": "code",
   "execution_count": 46,
   "id": "bb164af6-6538-4cce-9963-1ca385dadf91",
   "metadata": {},
   "outputs": [
    {
     "name": "stdout",
     "output_type": "stream",
     "text": [
      "3\n",
      "5\n"
     ]
    }
   ],
   "source": [
    "a= ['gita','harry','hari','ram','shyam','ram']\n",
    "l=len(a)\n",
    "for i in range(l):\n",
    "    if a[i]=='ram':\n",
    "        print(i)"
   ]
  },
  {
   "cell_type": "code",
   "execution_count": 1,
   "id": "786a5b48-2ba2-47b4-9f6c-0fa49f13c1a9",
   "metadata": {},
   "outputs": [
    {
     "name": "stdin",
     "output_type": "stream",
     "text": [
      "enter name= ram\n"
     ]
    },
    {
     "name": "stdout",
     "output_type": "stream",
     "text": [
      "3\n",
      "5\n"
     ]
    }
   ],
   "source": [
    " #kunai pani index ma aako variable case insensisite hunxa\n",
    "a= ['gita','harry','hari','ram','shyam','ram']\n",
    "name=input('enter name=')\n",
    "l=len(a)\n",
    "for i in range(l):\n",
    "    if a[i].upper()== name.upper(): \n",
    "        print(i) "
   ]
  },
  {
   "cell_type": "code",
   "execution_count": 4,
   "id": "56108ba8-d18f-49c2-8087-5a986eb709d8",
   "metadata": {},
   "outputs": [
    {
     "ename": "SyntaxError",
     "evalue": "unterminated string literal (detected at line 3) (915703292.py, line 3)",
     "output_type": "error",
     "traceback": [
      "\u001b[1;36m  Cell \u001b[1;32mIn[4], line 3\u001b[1;36m\u001b[0m\n\u001b[1;33m    a= [gita','hary','hari','ram','shyam','ram']\u001b[0m\n\u001b[1;37m                                              ^\u001b[0m\n\u001b[1;31mSyntaxError\u001b[0m\u001b[1;31m:\u001b[0m unterminated string literal (detected at line 3)\n"
     ]
    }
   ],
   "source": [
    "#remove & search garda case insensitive banaune\n",
    "#value search \n",
    "a= [gita','hary','hari','ram','shyam','ram']\n",
    "for i in a:\n",
    "if a[i].lower()= name.lower():\n",
    "   print('chaaa',a.count('ram'))\n",
    "else:\n",
    "print('chaina')\n",
    "   \n",
    "    \n",
    "   \n",
    "   \n",
    " \n",
    "    "
   ]
  },
  {
   "cell_type": "code",
   "execution_count": null,
   "id": "6d330036-7a63-47a7-ba1b-f84d1ef6ac25",
   "metadata": {},
   "outputs": [],
   "source": []
  }
 ],
 "metadata": {
  "kernelspec": {
   "display_name": "Python 3 (ipykernel)",
   "language": "python",
   "name": "python3"
  },
  "language_info": {
   "codemirror_mode": {
    "name": "ipython",
    "version": 3
   },
   "file_extension": ".py",
   "mimetype": "text/x-python",
   "name": "python",
   "nbconvert_exporter": "python",
   "pygments_lexer": "ipython3",
   "version": "3.11.7"
  }
 },
 "nbformat": 4,
 "nbformat_minor": 5
}
