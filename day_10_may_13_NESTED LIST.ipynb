{
 "cells": [
  {
   "cell_type": "code",
   "execution_count": null,
   "id": "98980ccf-3728-4372-8e92-d1148d19777f",
   "metadata": {},
   "outputs": [],
   "source": [
    "#list inside list\n",
    "a=[1,2,3],\n",
    "  [4,5,6],\n",
    "  [7,8,9]\n"
   ]
  },
  {
   "cell_type": "code",
   "execution_count": 3,
   "id": "1d82deab-4c52-4978-8af6-df360ee39351",
   "metadata": {},
   "outputs": [
    {
     "name": "stdout",
     "output_type": "stream",
     "text": [
      "[['ram', 34, 'kathmandu'], ['shyam', 67, 'lalitpur'], ['hari', 56, 'bhaktapur']]\n",
      "3\n"
     ]
    }
   ],
   "source": [
    "info=[['ram',34,'kathmandu'],\n",
    "     ['shyam',67,'lalitpur'],\n",
    "     ['hari',56,'bhaktapur']]\n",
    "print(info)\n",
    "print(len(info))\n"
   ]
  },
  {
   "cell_type": "code",
   "execution_count": 4,
   "id": "05203e74-aac7-4a5f-b8b4-1506b53fe5c1",
   "metadata": {},
   "outputs": [
    {
     "data": {
      "text/plain": [
       "['shyam', 67, 'lalitpur']"
      ]
     },
     "execution_count": 4,
     "metadata": {},
     "output_type": "execute_result"
    }
   ],
   "source": [
    "info[1]"
   ]
  },
  {
   "cell_type": "code",
   "execution_count": 5,
   "id": "aa9428b6-5251-4f2f-a030-08ceb134fa6a",
   "metadata": {},
   "outputs": [
    {
     "data": {
      "text/plain": [
       "'ram'"
      ]
     },
     "execution_count": 5,
     "metadata": {},
     "output_type": "execute_result"
    }
   ],
   "source": [
    "info[0][0]"
   ]
  },
  {
   "cell_type": "code",
   "execution_count": 6,
   "id": "eeb444aa-74ab-423e-974e-22c287997cc6",
   "metadata": {},
   "outputs": [
    {
     "data": {
      "text/plain": [
       "56"
      ]
     },
     "execution_count": 6,
     "metadata": {},
     "output_type": "execute_result"
    }
   ],
   "source": [
    "info[2][1]"
   ]
  },
  {
   "cell_type": "code",
   "execution_count": 7,
   "id": "f79f9c82-408e-4443-b0ab-f560cb9066b6",
   "metadata": {},
   "outputs": [
    {
     "name": "stdin",
     "output_type": "stream",
     "text": [
      "enter n= 2\n",
      "enter value= ram\n",
      "enter age= 34\n",
      "enter address= ktm\n"
     ]
    },
    {
     "name": "stdout",
     "output_type": "stream",
     "text": [
      "[['ram', 34, 'ktm']]\n"
     ]
    },
    {
     "name": "stdin",
     "output_type": "stream",
     "text": [
      "enter value= shyam\n",
      "enter age= 23\n",
      "enter address= pkr\n"
     ]
    },
    {
     "name": "stdout",
     "output_type": "stream",
     "text": [
      "[['ram', 34, 'ktm'], ['shyam', 23, 'pkr']]\n"
     ]
    }
   ],
   "source": [
    "info=[]\n",
    "n=int(input('enter n='))\n",
    "for i in range(n):\n",
    "    name=input('enter value=')\n",
    "    age=int(input('enter age='))\n",
    "    add=input('enter address=')\n",
    "    x=[name,age,add]\n",
    "    info.append(x)\n",
    "    print(info)\n",
    "            \n",
    "            "
   ]
  },
  {
   "cell_type": "code",
   "execution_count": 10,
   "id": "ab4ca60d-ca69-483a-b6b1-8701e6d9b3e1",
   "metadata": {},
   "outputs": [],
   "source": [
    "info.append(['hari',45,'brt'])\n"
   ]
  },
  {
   "cell_type": "code",
   "execution_count": 11,
   "id": "9c5182ea-8c19-4d8f-b674-4c36eee44334",
   "metadata": {},
   "outputs": [
    {
     "data": {
      "text/plain": [
       "[['ram', 34, 'ktm'],\n",
       " ['shyam', 23, 'pkr'],\n",
       " ['hari', 45, 'brt'],\n",
       " ['hari', 45, 'brt'],\n",
       " ['hari', 45, 'brt']]"
      ]
     },
     "execution_count": 11,
     "metadata": {},
     "output_type": "execute_result"
    }
   ],
   "source": [
    "info"
   ]
  },
  {
   "cell_type": "code",
   "execution_count": 14,
   "id": "9b02644e-98c0-424c-a539-73ef83b7cc92",
   "metadata": {},
   "outputs": [
    {
     "data": {
      "text/plain": [
       "[['rama', 23, 'npj'],\n",
       " ['shyam', 23, 'pkr'],\n",
       " ['hari', 45, 'brt'],\n",
       " ['hari', 45, 'brt'],\n",
       " ['hari', 45, 'brt']]"
      ]
     },
     "execution_count": 14,
     "metadata": {},
     "output_type": "execute_result"
    }
   ],
   "source": [
    "#update\n",
    "info[0]=['rama',23,'npj']\n",
    "info"
   ]
  },
  {
   "cell_type": "code",
   "execution_count": 16,
   "id": "8fe14294-0103-4ec2-8186-906a0ccd2e64",
   "metadata": {},
   "outputs": [
    {
     "data": {
      "text/plain": [
       "[[['rama'], 23, 'npj'],\n",
       " ['shyam', 23, 'pkr'],\n",
       " ['hari', 45, 'brt'],\n",
       " ['hari', 45, 'brt'],\n",
       " ['hari', 45, 'brt']]"
      ]
     },
     "execution_count": 16,
     "metadata": {},
     "output_type": "execute_result"
    }
   ],
   "source": [
    "info[0][0]=['rama']\n",
    "info"
   ]
  },
  {
   "cell_type": "code",
   "execution_count": 24,
   "id": "8655538f-80bc-48c1-9021-5e39dc4b6929",
   "metadata": {},
   "outputs": [
    {
     "data": {
      "text/plain": [
       "[['shyam', 23, 'pkr'], ['hari', 45, 'brt']]"
      ]
     },
     "execution_count": 24,
     "metadata": {},
     "output_type": "execute_result"
    }
   ],
   "source": [
    "#del\n",
    "a= [['rama', 23, 'npj'],['shyam',23, 'pkr'], ['hari', 45, 'brt']]\n",
    "del a[0]\n",
    "a"
   ]
  },
  {
   "cell_type": "code",
   "execution_count": 22,
   "id": "aafa6a71-5660-459e-84fb-28c4eb4c93ec",
   "metadata": {},
   "outputs": [
    {
     "name": "stdout",
     "output_type": "stream",
     "text": [
      "[['shyam', 23, 'pkr'], ['hari', 45, 'brt']]\n",
      "['rama', 23, 'npj']\n"
     ]
    }
   ],
   "source": [
    "a= [['rama', 23, 'npj'],['shyam',23, 'pkr'], ['hari', 45, 'brt']]\n",
    "b=a.pop(0)\n",
    "print(a)\n",
    "print(b)"
   ]
  },
  {
   "cell_type": "code",
   "execution_count": 29,
   "id": "30545aa0-69ee-44d4-bd00-965b48ceb9d8",
   "metadata": {},
   "outputs": [
    {
     "name": "stdin",
     "output_type": "stream",
     "text": [
      "enter name= rama\n"
     ]
    },
    {
     "name": "stdout",
     "output_type": "stream",
     "text": [
      "['rama', 23, 'npj']\n"
     ]
    }
   ],
   "source": [
    "#search in list inside list\n",
    "a= [['rama', 23, 'npj'],['shyam',23, 'pkr'], ['hari', 45, 'brt']]\n",
    "name=input('enter name=')\n",
    "for i in a:\n",
    "    if name in i:\n",
    "        print(i)\n",
    "    \n",
    "    \n",
    "    \n"
   ]
  },
  {
   "cell_type": "code",
   "execution_count": 34,
   "id": "d555824c-8830-4a06-ad23-1e392033bcc4",
   "metadata": {},
   "outputs": [
    {
     "name": "stdin",
     "output_type": "stream",
     "text": [
      "enter name= ram\n"
     ]
    },
    {
     "name": "stdout",
     "output_type": "stream",
     "text": [
      "0\n",
      "3\n"
     ]
    }
   ],
   "source": [
    "a= [['ram', 23, 'npj'],['shyam',23, 'pkr'], ['hari', 45, 'brt'],['ram', 23, 'npj']]\n",
    "name=input('enter name=')\n",
    "l=len(a)\n",
    "for i in range(l):\n",
    "    if name in a[i]:\n",
    "        print(i)\n",
    "    "
   ]
  },
  {
   "cell_type": "code",
   "execution_count": 2,
   "id": "e5955e0c-3efa-4fe3-9b22-dd23252bbc14",
   "metadata": {},
   "outputs": [
    {
     "name": "stdin",
     "output_type": "stream",
     "text": [
      "enter r= 3\n",
      "enter c= 4\n",
      "enter x= 3\n",
      "enter x= 4\n",
      "enter x= 5\n",
      "enter x= 6\n",
      "enter x= 7\n",
      "enter x= 8\n",
      "enter x= 9\n",
      "enter x= 0\n",
      "enter x= 1\n",
      "enter x= 2\n",
      "enter x= 3\n",
      "enter x= 4\n"
     ]
    },
    {
     "name": "stdout",
     "output_type": "stream",
     "text": [
      "[[3, 4, 5, 6], [7, 8, 9, 0], [1, 2, 3, 4]]\n"
     ]
    }
   ],
   "source": [
    "m=[]\n",
    "r=int(input('enter r='))\n",
    "c=int(input('enter c='))\n",
    "for i in range(r):\n",
    "    y=[]\n",
    "    for j in range(c):\n",
    "        x=int(input('enter x='))\n",
    "        y.append(x)\n",
    "    m.append(y)\n",
    "print(m)\n",
    "        \n",
    "\n",
    "    "
   ]
  },
  {
   "cell_type": "code",
   "execution_count": null,
   "id": "d525eff4-8257-42f4-b612-5ee98e2ed2db",
   "metadata": {},
   "outputs": [],
   "source": []
  }
 ],
 "metadata": {
  "kernelspec": {
   "display_name": "Python 3 (ipykernel)",
   "language": "python",
   "name": "python3"
  },
  "language_info": {
   "codemirror_mode": {
    "name": "ipython",
    "version": 3
   },
   "file_extension": ".py",
   "mimetype": "text/x-python",
   "name": "python",
   "nbconvert_exporter": "python",
   "pygments_lexer": "ipython3",
   "version": "3.11.7"
  }
 },
 "nbformat": 4,
 "nbformat_minor": 5
}
