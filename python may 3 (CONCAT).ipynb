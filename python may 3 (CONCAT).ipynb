{
 "cells": [
  {
   "cell_type": "code",
   "execution_count": 1,
   "id": "ed4b9b44-2b5b-43f7-87d6-fe8301398aaf",
   "metadata": {},
   "outputs": [
    {
     "name": "stdout",
     "output_type": "stream",
     "text": [
      "AppleBall\n"
     ]
    }
   ],
   "source": [
    "#concat\n",
    "a= \"Apple\"\n",
    "b= \"Ball\"\n",
    "c=a+b\n",
    "print(c)"
   ]
  },
  {
   "cell_type": "code",
   "execution_count": 2,
   "id": "d540e388-c42b-4ca0-88b9-5cdecebc8ffd",
   "metadata": {},
   "outputs": [
    {
     "name": "stdout",
     "output_type": "stream",
     "text": [
      "Hello WorldHello World\n"
     ]
    }
   ],
   "source": [
    "a=\"Hello World\"\n",
    "print(a*2)\n"
   ]
  },
  {
   "cell_type": "code",
   "execution_count": null,
   "id": "981fa538-3b13-457b-ab93-2f2797394046",
   "metadata": {},
   "outputs": [],
   "source": [
    "#\\n = next line ma liyera jaau\n",
    "string+string matra add hunxa\n",
    "string+integer add hudaina, integer \n"
   ]
  },
  {
   "cell_type": "code",
   "execution_count": 3,
   "id": "c3a088ed-01e4-42ad-a5df-034736301d46",
   "metadata": {},
   "outputs": [
    {
     "name": "stdout",
     "output_type": "stream",
     "text": [
      "Hello World\n",
      "Hello World\n",
      "\n"
     ]
    }
   ],
   "source": [
    "a=\"Hello World\\n\"\n",
    "print(a*2)"
   ]
  },
  {
   "cell_type": "code",
   "execution_count": 10,
   "id": "6f8a454e-22a4-4d58-a33b-022eee3a0abb",
   "metadata": {},
   "outputs": [
    {
     "name": "stdin",
     "output_type": "stream",
     "text": [
      "enter name=  ram\n",
      "enter age=  22\n",
      "enter add=  nepal\n"
     ]
    },
    {
     "name": "stdout",
     "output_type": "stream",
     "text": [
      "Hello World I am ram I am 22 I am from nepal\n"
     ]
    }
   ],
   "source": [
    "name=input('enter name= ')\n",
    "age=int(input('enter age= '))\n",
    "add=input('enter add= ')\n",
    "info= 'Hello World I am ' + name + ' I am ' + str( age ) + ' I am from ' + add \n",
    "print(info)\n",
    "    "
   ]
  },
  {
   "cell_type": "code",
   "execution_count": 11,
   "id": "7b712352-a37a-405c-9bf6-911764e0f010",
   "metadata": {},
   "outputs": [
    {
     "name": "stdout",
     "output_type": "stream",
     "text": [
      "1\n"
     ]
    }
   ],
   "source": [
    "a=True\n",
    "b=False\n",
    "c=a+b\n",
    "print(c)"
   ]
  },
  {
   "cell_type": "code",
   "execution_count": 13,
   "id": "096e4ef7-fb1d-4574-973e-d9a3c60d362a",
   "metadata": {},
   "outputs": [
    {
     "name": "stdout",
     "output_type": "stream",
     "text": [
      "2\n"
     ]
    }
   ],
   "source": [
    "a=True\n",
    "b=True\n",
    "c=a+b\n",
    "print(c)"
   ]
  },
  {
   "cell_type": "code",
   "execution_count": 14,
   "id": "49e41ce3-a33a-4fb0-ba1d-6b72dda2a3e3",
   "metadata": {},
   "outputs": [
    {
     "name": "stdout",
     "output_type": "stream",
     "text": [
      "True\n"
     ]
    }
   ],
   "source": [
    "a=True\n",
    "b=True\n",
    "c=bool(a+b)\n",
    "print(c)"
   ]
  },
  {
   "cell_type": "code",
   "execution_count": 15,
   "id": "3e4d44b6-86b3-4613-bc23-456472d58b44",
   "metadata": {},
   "outputs": [
    {
     "ename": "ZeroDivisionError",
     "evalue": "division by zero",
     "output_type": "error",
     "traceback": [
      "\u001b[1;31m---------------------------------------------------------------------------\u001b[0m",
      "\u001b[1;31mZeroDivisionError\u001b[0m                         Traceback (most recent call last)",
      "Cell \u001b[1;32mIn[15], line 3\u001b[0m\n\u001b[0;32m      1\u001b[0m a\u001b[38;5;241m=\u001b[39m\u001b[38;5;28;01mTrue\u001b[39;00m\n\u001b[0;32m      2\u001b[0m b\u001b[38;5;241m=\u001b[39m\u001b[38;5;28;01mFalse\u001b[39;00m\n\u001b[1;32m----> 3\u001b[0m c\u001b[38;5;241m=\u001b[39ma\u001b[38;5;241m/\u001b[39mb\n\u001b[0;32m      4\u001b[0m \u001b[38;5;28mprint\u001b[39m(c)\n",
      "\u001b[1;31mZeroDivisionError\u001b[0m: division by zero"
     ]
    }
   ],
   "source": [
    "a=True\n",
    "b=False\n",
    "c=a/b\n",
    "print(c)"
   ]
  },
  {
   "cell_type": "code",
   "execution_count": null,
   "id": "dd17b8fe-431b-423e-ae1a-03b8f326930a",
   "metadata": {},
   "outputs": [],
   "source": []
  }
 ],
 "metadata": {
  "kernelspec": {
   "display_name": "Python 3 (ipykernel)",
   "language": "python",
   "name": "python3"
  },
  "language_info": {
   "codemirror_mode": {
    "name": "ipython",
    "version": 3
   },
   "file_extension": ".py",
   "mimetype": "text/x-python",
   "name": "python",
   "nbconvert_exporter": "python",
   "pygments_lexer": "ipython3",
   "version": "3.11.7"
  }
 },
 "nbformat": 4,
 "nbformat_minor": 5
}
