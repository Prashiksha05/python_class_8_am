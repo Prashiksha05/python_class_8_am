{
 "cells": [
  {
   "cell_type": "code",
   "execution_count": null,
   "id": "2084dfd4-ce75-4132-9b13-f88b7683b930",
   "metadata": {},
   "outputs": [],
   "source": [
    "#if<condition>:\n",
    "    if<condition>:\n",
    "        <operation>\n",
    "    else:\n",
    "        <condition>\n",
    "else:\n",
    "    <operation>"
   ]
  },
  {
   "cell_type": "code",
   "execution_count": 4,
   "id": "ae81b4e7-5789-47d4-8346-2262c1918b79",
   "metadata": {},
   "outputs": [
    {
     "name": "stdin",
     "output_type": "stream",
     "text": [
      "Enter x= 79\n"
     ]
    },
    {
     "name": "stdout",
     "output_type": "stream",
     "text": [
      "the value is +ve and odd\n"
     ]
    }
   ],
   "source": [
    "x=int(input(\"Enter x=\"))\n",
    "if x>=0:\n",
    "    if x%2 ==0:\n",
    "        print(\"the value is +ve and even\")\n",
    "    else:\n",
    "        print(\"the value is +ve and odd\")\n",
    "else:\n",
    "    if x%2 ==0:\n",
    "        print(\"the value is -ve and even\")\n",
    "    else:\n",
    "        print(\"the value is -ve and odd\")\n",
    "        "
   ]
  },
  {
   "cell_type": "code",
   "execution_count": null,
   "id": "87da07db-8b3d-4414-9ece-53d27d519f66",
   "metadata": {},
   "outputs": [],
   "source": [
    "#and, or , not =logical operator\n"
   ]
  },
  {
   "cell_type": "code",
   "execution_count": 5,
   "id": "51f07d1e-5b94-4405-ab2e-1031e1c493e6",
   "metadata": {},
   "outputs": [
    {
     "name": "stdout",
     "output_type": "stream",
     "text": [
      "True\n",
      "True\n",
      "True\n",
      "False\n"
     ]
    }
   ],
   "source": [
    "#or\n",
    "print(True or Tree)\n",
    "print(True or False)\n",
    "print(False or True)\n",
    "print(False or False)"
   ]
  },
  {
   "cell_type": "code",
   "execution_count": 7,
   "id": "9887e856-2f05-46f4-9942-3653b769424d",
   "metadata": {},
   "outputs": [
    {
     "name": "stdout",
     "output_type": "stream",
     "text": [
      "True\n",
      "False\n",
      "False\n",
      "False\n"
     ]
    }
   ],
   "source": [
    "#and\n",
    "print(True and True)\n",
    "print(True and False)\n",
    "print(False and True)\n",
    "print(False and False)"
   ]
  },
  {
   "cell_type": "code",
   "execution_count": 20,
   "id": "e8bb99b6-219c-4e86-b1cb-6d6ca25288cc",
   "metadata": {},
   "outputs": [
    {
     "name": "stdin",
     "output_type": "stream",
     "text": [
      "Enter Physics marks=  32\n",
      "Enter chemistry marks=  32\n",
      "Enter math marks=  32\n",
      "Enter english marks=  32\n",
      "Enter nepali marks=  32\n"
     ]
    },
    {
     "name": "stdout",
     "output_type": "stream",
     "text": [
      "Total marks=  160\n",
      "Percentage=  32.0\n",
      "Grade=  D\n"
     ]
    }
   ],
   "source": [
    "physics=int(input(\"Enter Physics marks= \"))\n",
    "chemistry=int(input(\"Enter chemistry marks= \"))\n",
    "math=int(input(\"Enter math marks= \"))\n",
    "english=int(input(\"Enter english marks= \"))\n",
    "nepali=int(input(\"Enter nepali marks= \"))\n",
    "if physics>=32 and chemistry>= 32 and math>=32 and english>=32 and nepali>=32:\n",
    "    Total=(physics + chemistry +math + english + nepali)\n",
    "    Percentage=(Total/5)\n",
    "    if Percentage>=80:\n",
    "        grade='A'\n",
    "    elif Percentage>=60:\n",
    "        grade='B'\n",
    "    elif Percentage>=45:\n",
    "        grade='C'\n",
    "    else:\n",
    "        grade='D'\n",
    "        \n",
    "else:\n",
    "    grade='F'\n",
    "    Total='NA'\n",
    "    Percentage='NA'\n",
    "print('Total marks= ', Total)\n",
    "print('Percentage= ',Percentage)\n",
    "print('Grade= ', grade)\n",
    "\n",
    "    \n",
    "    "
   ]
  },
  {
   "cell_type": "code",
   "execution_count": 22,
   "id": "e437243a-f2e4-40b8-a3e3-b6ad9f78c376",
   "metadata": {},
   "outputs": [
    {
     "name": "stdin",
     "output_type": "stream",
     "text": [
      "Enter a=  45\n",
      "Entet b=  54\n",
      "Enter + or - or * or /  -\n"
     ]
    },
    {
     "name": "stdout",
     "output_type": "stream",
     "text": [
      "-9\n"
     ]
    }
   ],
   "source": [
    "a=int(input('Enter a= '))\n",
    "b=int(input('Entet b= '))\n",
    "o=input('Enter + or - or * or / ')\n",
    "if o == '+':\n",
    "    print(a+b)\n",
    "elif o== '-':\n",
    "    print(a-b)\n",
    "elif o== '*':\n",
    "    print(a*b)\n",
    "elif o== '/':\n",
    "    print(a/b)\n",
    "elif o== '/' and b== 0:\n",
    "    print('The value of b cannot be zero')\n",
    "else:\n",
    "    print('Invalid')\n"
   ]
  },
  {
   "cell_type": "code",
   "execution_count": 2,
   "id": "a4f5242a-18f1-4ea9-956e-cdd67184c3c6",
   "metadata": {},
   "outputs": [
    {
     "name": "stdin",
     "output_type": "stream",
     "text": [
      "Enter a=  10\n",
      "Entet b=  0\n",
      "Enter + or - or * or /  /\n"
     ]
    }
   ],
   "source": [
    "a=int(input('Enter a= '))\n",
    "b=int(input('Entet b= '))\n",
    "o=input('Enter + or - or * or / ')\n",
    "if o == '+':\n",
    "    print(a+b)\n",
    "elif o== '-':\n",
    "    print(a-b)\n",
    "elif o== '*':\n",
    "    print(a*b)\n",
    "elif o== '/':\n",
    "    if b!=0:\n",
    "        print(a/b)\n",
    "elif o== '/' and b== 0:\n",
    "    print('The value of b cannot be zero!')\n",
    "else:\n",
    "    print('Invalid')\n"
   ]
  },
  {
   "cell_type": "code",
   "execution_count": null,
   "id": "96834906-c095-4cde-8d8e-35bb96b629a1",
   "metadata": {},
   "outputs": [],
   "source": []
  }
 ],
 "metadata": {
  "kernelspec": {
   "display_name": "Python 3 (ipykernel)",
   "language": "python",
   "name": "python3"
  },
  "language_info": {
   "codemirror_mode": {
    "name": "ipython",
    "version": 3
   },
   "file_extension": ".py",
   "mimetype": "text/x-python",
   "name": "python",
   "nbconvert_exporter": "python",
   "pygments_lexer": "ipython3",
   "version": "3.11.7"
  }
 },
 "nbformat": 4,
 "nbformat_minor": 5
}
