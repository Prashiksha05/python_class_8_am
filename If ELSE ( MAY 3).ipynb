{
 "cells": [
  {
   "cell_type": "code",
   "execution_count": null,
   "id": "294e03e2-c3b2-4817-ab3b-3ce1ca1c1f9b",
   "metadata": {},
   "outputs": [],
   "source": [
    "# < > <= >= == (!=lhs not equal to rhs)"
   ]
  },
  {
   "cell_type": "code",
   "execution_count": null,
   "id": "a9d701aa-249d-496a-8fc7-213b77b010cf",
   "metadata": {},
   "outputs": [],
   "source": [
    "# if <condition>:\n",
    "#   <operations>\n",
    "#elif<condition>:\n",
    "# <operations>\n",
    "#else:\n",
    "#   <operations>\n"
   ]
  },
  {
   "cell_type": "code",
   "execution_count": null,
   "id": "8c3de6ed-e117-46f3-baa5-6b12b23ded5c",
   "metadata": {},
   "outputs": [],
   "source": [
    "age= int(input('Enter a='))\n",
    "if age>10:\n",
    "    print('Your age is greater than 10')\n",
    "else:\n",
    "    print('You are under age')"
   ]
  },
  {
   "cell_type": "code",
   "execution_count": 4,
   "id": "470ad5ad-7fbc-4be9-8950-013afaa8c1d8",
   "metadata": {},
   "outputs": [
    {
     "name": "stdin",
     "output_type": "stream",
     "text": [
      "Enter n= 22\n"
     ]
    },
    {
     "ename": "NameError",
     "evalue": "name 'Print' is not defined",
     "output_type": "error",
     "traceback": [
      "\u001b[1;31m---------------------------------------------------------------------------\u001b[0m",
      "\u001b[1;31mNameError\u001b[0m                                 Traceback (most recent call last)",
      "Cell \u001b[1;32mIn[4], line 2\u001b[0m\n\u001b[0;32m      1\u001b[0m n\u001b[38;5;241m=\u001b[39m\u001b[38;5;28mint\u001b[39m(\u001b[38;5;28minput\u001b[39m(\u001b[38;5;124m'\u001b[39m\u001b[38;5;124mEnter n=\u001b[39m\u001b[38;5;124m'\u001b[39m))\n\u001b[1;32m----> 2\u001b[0m Print (n \u001b[38;5;241m%\u001b[39m \u001b[38;5;241m2\u001b[39m)\n",
      "\u001b[1;31mNameError\u001b[0m: name 'Print' is not defined"
     ]
    }
   ],
   "source": [
    "n=int(input('Enter n='))\n",
    "Print (n % 2)\n",
    "      "
   ]
  },
  {
   "cell_type": "code",
   "execution_count": 1,
   "id": "f39fe6d1-06d3-4a43-8709-6c93555038a6",
   "metadata": {},
   "outputs": [
    {
     "name": "stdin",
     "output_type": "stream",
     "text": [
      "Enter n=  24\n"
     ]
    },
    {
     "name": "stdout",
     "output_type": "stream",
     "text": [
      "The given number is even\n"
     ]
    }
   ],
   "source": [
    "n=int(input('Enter n= '))\n",
    "if n % 2 == 0:\n",
    "    print('The given number is even')\n",
    "else:\n",
    "    print('The given no is odd')\n",
    "      "
   ]
  },
  {
   "cell_type": "code",
   "execution_count": 2,
   "id": "cd9aa143-12d2-4fe9-8a27-4cf8d3bef606",
   "metadata": {},
   "outputs": [
    {
     "name": "stdin",
     "output_type": "stream",
     "text": [
      "Enter a = 23\n",
      "Enter b=  24\n"
     ]
    },
    {
     "name": "stdout",
     "output_type": "stream",
     "text": [
      "24 is greater than 23\n"
     ]
    }
   ],
   "source": [
    "a=int(input('Enter a ='))\n",
    "b=int(input('Enter b= '))\n",
    "if a>b:\n",
    "    print(a,'is greater than',b)\n",
    "elif b>a:\n",
    "    print(b,'is greater than',a)\n",
    "else:\n",
    "    print(a,'and', b, 'are equal')\n",
    "\n",
    "            \n"
   ]
  },
  {
   "cell_type": "code",
   "execution_count": 17,
   "id": "2c53ba61-0156-4a86-9247-c35380ed25f9",
   "metadata": {},
   "outputs": [
    {
     "name": "stdin",
     "output_type": "stream",
     "text": [
      "enter m= 76\n",
      "enter s= 67\n",
      "enter e= 56\n",
      "enter n= 98\n",
      "enter c= 78\n"
     ]
    },
    {
     "name": "stdout",
     "output_type": "stream",
     "text": [
      "375\n",
      "good\n"
     ]
    },
    {
     "ename": "NameError",
     "evalue": "name 't' is not defined",
     "output_type": "error",
     "traceback": [
      "\u001b[1;31m---------------------------------------------------------------------------\u001b[0m",
      "\u001b[1;31mNameError\u001b[0m                                 Traceback (most recent call last)",
      "Cell \u001b[1;32mIn[17], line 19\u001b[0m\n\u001b[0;32m     17\u001b[0m \u001b[38;5;28;01melse\u001b[39;00m:\n\u001b[0;32m     18\u001b[0m     \u001b[38;5;28mprint\u001b[39m(\u001b[38;5;124m'\u001b[39m\u001b[38;5;124mfail\u001b[39m\u001b[38;5;124m'\u001b[39m)\n\u001b[1;32m---> 19\u001b[0m \u001b[38;5;28mprint\u001b[39m(\u001b[38;5;124m'\u001b[39m\u001b[38;5;124mT=\u001b[39m\u001b[38;5;124m'\u001b[39m,t)\n\u001b[0;32m     20\u001b[0m \u001b[38;5;28mprint\u001b[39m(\u001b[38;5;124m'\u001b[39m\u001b[38;5;124mPer=\u001b[39m\u001b[38;5;124m'\u001b[39m,per)\n",
      "\u001b[1;31mNameError\u001b[0m: name 't' is not defined"
     ]
    }
   ],
   "source": [
    "Math=int(input('enter m='))\n",
    "Sci=int(input('enter s='))\n",
    "Eng=int(input('enter e='))\n",
    "Nepali=int(input('enter n='))\n",
    "Chem=int(input('enter c='))\n",
    "T=(Math+Sci+Eng+Nepali+Chem)\n",
    "print(T)\n",
    "Per=(T/5)\n",
    "if Per<=45:\n",
    "    print('okay')\n",
    "elif Per>=65:\n",
    "    print('good')\n",
    "elif Per>=80:\n",
    "    print('verygood')\n",
    "elif Per>=90:\n",
    "    print('excellent')\n",
    "else:\n",
    "    print('fail')\n",
    "print('Your total=',T)\n",
    "print('Percenta=',per)\n",
    "\n",
    "\n",
    "\n",
    "           \n",
    "        \n",
    "         \n",
    "            "
   ]
  },
  {
   "cell_type": "code",
   "execution_count": null,
   "id": "79b16d25-5e1d-472a-a851-40d6982dc386",
   "metadata": {},
   "outputs": [],
   "source": [
    "#WAP to make a basic calculator\n",
    "add\n",
    "sub\n",
    "mul\n",
    "div\n",
    "take a and b as input\n",
    "take o as operator"
   ]
  },
  {
   "cell_type": "code",
   "execution_count": 1,
   "id": "1a347aab-9fd1-4d40-81d4-7cd645a0fd7b",
   "metadata": {},
   "outputs": [
    {
     "name": "stdin",
     "output_type": "stream",
     "text": [
      "enter a= 12\n",
      "enter b= 34\n"
     ]
    },
    {
     "name": "stdout",
     "output_type": "stream",
     "text": [
      "46\n",
      "-22\n",
      "408\n",
      "0.35294117647058826\n"
     ]
    }
   ],
   "source": [
    "a=int(input('enter a='))\n",
    "b=int(input('enter b='))\n",
    "sum=a+b\n",
    "sub=a-b\n",
    "mul=a*b\n",
    "div=a/b\n",
    "print(sum)\n",
    "print(sub)\n",
    "print(mul)\n",
    "print(div)"
   ]
  },
  {
   "cell_type": "code",
   "execution_count": null,
   "id": "0afa21e9-90fd-4d6d-afa5-c912438fd8c8",
   "metadata": {},
   "outputs": [],
   "source": [
    "#sum=a+b\n",
    "#substract=a-b\n",
    "#multiplication=a*b\n",
    "#division=a/b\n",
    "\n",
    "N1=int(input('enter first number='))\n",
    "N2=int(input('enter second number='))\n",
    "operations='+,-,*,/\n",
    "O1=a+b\n",
    "O2=a-b\n",
    "O3=a*b\n",
    "\n"
   ]
  }
 ],
 "metadata": {
  "kernelspec": {
   "display_name": "Python 3 (ipykernel)",
   "language": "python",
   "name": "python3"
  },
  "language_info": {
   "codemirror_mode": {
    "name": "ipython",
    "version": 3
   },
   "file_extension": ".py",
   "mimetype": "text/x-python",
   "name": "python",
   "nbconvert_exporter": "python",
   "pygments_lexer": "ipython3",
   "version": "3.11.7"
  }
 },
 "nbformat": 4,
 "nbformat_minor": 5
}
