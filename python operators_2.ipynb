{
 "cells": [
  {
   "cell_type": "code",
   "execution_count": 3,
   "id": "fb279946-af36-4012-8091-d51dd0f997e5",
   "metadata": {},
   "outputs": [
    {
     "name": "stdout",
     "output_type": "stream",
     "text": [
      "13\n"
     ]
    }
   ],
   "source": [
    "# +-/ % ** //\n",
    "\n",
    "  \n",
    "a=10 #pre defined \n",
    "b=3\n",
    "c=a+b\n",
    "print(c)\n"
   ]
  },
  {
   "cell_type": "code",
   "execution_count": null,
   "id": "ccad03c5-1158-4df3-b713-a9a05e9f14f8",
   "metadata": {},
   "outputs": [],
   "source": [
    "a=10\n",
    "b=3\n",
    "print(a+b)\n",
    "print(a-b)\n",
    "print(a*b)\n",
    "print(a/b)\n",
    "print(a**b)\n",
    "print(a//b)\n",
    "print(a%b)"
   ]
  },
  {
   "cell_type": "code",
   "execution_count": null,
   "id": "8369b18e-a832-4012-9aec-bb4a08ea2257",
   "metadata": {},
   "outputs": [],
   "source": [
    "l=10\n",
    "b=3\n",
    "a=l*b\n",
    "print(a)"
   ]
  },
  {
   "cell_type": "code",
   "execution_count": null,
   "id": "6d6c965c-f124-442a-8047-5fb9a63aed03",
   "metadata": {},
   "outputs": [],
   "source": [
    "a=input()\n",
    "print(a)\n"
   ]
  },
  {
   "cell_type": "code",
   "execution_count": null,
   "id": "dc2f4786-a605-4f2a-b0b2-948e2db13b1b",
   "metadata": {},
   "outputs": [],
   "source": [
    "a=int(input(\"Enter Value a=10 \"))\n",
    "b=int(input(\"Enetr Value b=3 \"))\n",
    "print(type(a))\n",
    "print(type(b))\n",
    "c=a+b\n",
    "print(c)"
   ]
  },
  {
   "cell_type": "code",
   "execution_count": null,
   "id": "a953e53a-3ca5-417a-a31f-8ee919c576a2",
   "metadata": {},
   "outputs": [],
   "source": [
    "#Simple Interest"
   ]
  },
  {
   "cell_type": "code",
   "execution_count": 1,
   "id": "f2255a6b-3a80-40c5-9697-45aa873da4e6",
   "metadata": {},
   "outputs": [
    {
     "name": "stdin",
     "output_type": "stream",
     "text": [
      "Enter Value P=  1000\n",
      "Enter Value T=  2\n",
      "Enter Value R=  3\n"
     ]
    },
    {
     "name": "stdout",
     "output_type": "stream",
     "text": [
      "60.0\n"
     ]
    }
   ],
   "source": [
    "P=int(input(\"Enter Value P= \"))\n",
    "T=int(input(\"Enter Value T= \"))\n",
    "R=int(input(\"Enter Value R= \"))\n",
    "SI=(P*T*R/100)\n",
    "print(SI)\n",
    "      "
   ]
  },
  {
   "cell_type": "code",
   "execution_count": 2,
   "id": "dc62607a-c727-458f-a6e4-36e725bf2f1c",
   "metadata": {},
   "outputs": [
    {
     "name": "stdin",
     "output_type": "stream",
     "text": [
      "Enter p=  10000\n",
      "Enter t=  2.5\n",
      "ENter r=  6.66\n"
     ]
    },
    {
     "name": "stdout",
     "output_type": "stream",
     "text": [
      "1665.0\n"
     ]
    }
   ],
   "source": [
    "p=int(input(\"Enter p= \"))\n",
    "t=float(input(\"Enter t= \"))\n",
    "r=float(input(\"ENter r= \"))\n",
    "i=p*t*r/100\n",
    "print(i)\n",
    "              \n",
    "      "
   ]
  },
  {
   "cell_type": "code",
   "execution_count": 3,
   "id": "ec020772-1a31-4b7c-85c2-bffc9a0a4f7d",
   "metadata": {},
   "outputs": [],
   "source": [
    "# WAP to take subject marks from users and find total and percentage\n",
    "\n"
   ]
  },
  {
   "cell_type": "code",
   "execution_count": 2,
   "id": "c07fc4d8-e2b3-4abf-b4ed-2be600957c3e",
   "metadata": {},
   "outputs": [
    {
     "name": "stdin",
     "output_type": "stream",
     "text": [
      "Enter Value m=  88\n",
      "Enter Value s=  89\n",
      "Enter Value n=  99\n",
      "Enter Value e=  98\n"
     ]
    },
    {
     "name": "stdout",
     "output_type": "stream",
     "text": [
      "374\n",
      "93.5\n"
     ]
    }
   ],
   "source": [
    "math=int(input(\"Enter Value m= \"))\n",
    "science=int(input(\"Enter Value s= \"))\n",
    "nepali=int(input(\"Enter Value n= \"))\n",
    "english=int(input(\"Enter Value e= \"))\n",
    "T=math+science+nepali+english\n",
    "print(T)\n",
    "Per=(T/400)*100\n",
    "print(Per)"
   ]
  },
  {
   "cell_type": "code",
   "execution_count": null,
   "id": "97bed1a4-3d3e-4965-9782-d3f1999ae68d",
   "metadata": {},
   "outputs": [],
   "source": []
  }
 ],
 "metadata": {
  "kernelspec": {
   "display_name": "Python 3 (ipykernel)",
   "language": "python",
   "name": "python3"
  },
  "language_info": {
   "codemirror_mode": {
    "name": "ipython",
    "version": 3
   },
   "file_extension": ".py",
   "mimetype": "text/x-python",
   "name": "python",
   "nbconvert_exporter": "python",
   "pygments_lexer": "ipython3",
   "version": "3.11.7"
  }
 },
 "nbformat": 4,
 "nbformat_minor": 5
}
