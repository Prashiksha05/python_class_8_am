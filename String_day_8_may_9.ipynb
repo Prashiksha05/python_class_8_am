{
 "cells": [
  {
   "cell_type": "code",
   "execution_count": 1,
   "id": "f7b189f2-7d97-4e1a-bc9d-6edba4411682",
   "metadata": {},
   "outputs": [
    {
     "name": "stdout",
     "output_type": "stream",
     "text": [
      "<class 'str'>\n",
      "<class 'str'>\n",
      "<class 'str'>\n"
     ]
    }
   ],
   "source": [
    "a='Hello World'\n",
    "b=\"Hello World\"\n",
    "c='''Hello World'''\n",
    "print(type(a))\n",
    "print(type(b))\n",
    "print(type(c))"
   ]
  },
  {
   "cell_type": "code",
   "execution_count": 2,
   "id": "f384d101-9535-420f-9dac-1f64de104537",
   "metadata": {},
   "outputs": [
    {
     "name": "stdout",
     "output_type": "stream",
     "text": [
      "HelloWorld\n"
     ]
    }
   ],
   "source": [
    "a='Hello'\n",
    "b='World'\n",
    "c=a+b\n",
    "print(c)"
   ]
  },
  {
   "cell_type": "code",
   "execution_count": 5,
   "id": "f1e2dae9-5271-4a33-9e3c-f0f394d83252",
   "metadata": {},
   "outputs": [
    {
     "name": "stdout",
     "output_type": "stream",
     "text": [
      "Hello WorldHello WorldHello WorldHello WorldHello World\n"
     ]
    }
   ],
   "source": [
    "a='Hello World'\n",
    "print(a*5)"
   ]
  },
  {
   "cell_type": "code",
   "execution_count": 6,
   "id": "155bef62-8d17-4883-b229-b807f9678c87",
   "metadata": {},
   "outputs": [
    {
     "name": "stdout",
     "output_type": "stream",
     "text": [
      "Hello World"
     ]
    }
   ],
   "source": [
    "a='Hello World'\n",
    "for i in a:\n",
    "    print(i, end=\"\")"
   ]
  },
  {
   "cell_type": "code",
   "execution_count": 10,
   "id": "7671cd1e-9c91-47c8-9165-b48cd3afe31d",
   "metadata": {},
   "outputs": [
    {
     "name": "stdout",
     "output_type": "stream",
     "text": [
      "H\n",
      "Hello\n",
      "HloWr\n"
     ]
    }
   ],
   "source": [
    "a='Hello World'\n",
    "print(a[0])\n",
    "print(a[0:5])\n",
    "#string slicing\n",
    "print(a[0:10:2]) #index 0 bata start garera, 2 le increament gara, 10th index print hudaina #string slicing"
   ]
  },
  {
   "cell_type": "code",
   "execution_count": 11,
   "id": "e9166bc8-ac5b-4b90-b9c1-51dfa7adc16b",
   "metadata": {},
   "outputs": [
    {
     "name": "stdout",
     "output_type": "stream",
     "text": [
      " World\n"
     ]
    }
   ],
   "source": [
    "a='Hello World'\n",
    "print(a[5:]) #5th dekhi baki sabai print gara, last ma kei lekhena vane"
   ]
  },
  {
   "cell_type": "code",
   "execution_count": 1,
   "id": "dec74662-53d2-401d-96cf-9cb7991348ab",
   "metadata": {},
   "outputs": [
    {
     "name": "stdout",
     "output_type": "stream",
     "text": [
      "d\n",
      "\n"
     ]
    }
   ],
   "source": [
    "#right side bata left side ma aauna ko lagi\n",
    "a='Hello World'\n",
    "print(a[-1])\n",
    "print(a[-1:-5])"
   ]
  },
  {
   "cell_type": "code",
   "execution_count": 2,
   "id": "04f727f2-7034-4beb-b67d-07c801310104",
   "metadata": {},
   "outputs": [
    {
     "name": "stdout",
     "output_type": "stream",
     "text": [
      "dlroW olleH\n"
     ]
    }
   ],
   "source": [
    "#opposite bata print garna\n",
    "a=a='Hello World'\n",
    "print(a[-1:-12:-1])"
   ]
  },
  {
   "cell_type": "code",
   "execution_count": 3,
   "id": "e9141ec3-030a-496a-8a0a-a2d3ce63db3c",
   "metadata": {},
   "outputs": [
    {
     "name": "stdout",
     "output_type": "stream",
     "text": [
      "dlroW olleH\n"
     ]
    }
   ],
   "source": [
    "#string lai mirroring garna, last bata first ma aauna(without counting string)\n",
    "a=a='Hello World'\n",
    "print(a[::-1])"
   ]
  },
  {
   "cell_type": "code",
   "execution_count": 6,
   "id": "d4b802bf-373a-4cf8-801c-f7f6d6bb6882",
   "metadata": {
    "scrolled": true
   },
   "outputs": [
    {
     "name": "stdout",
     "output_type": "stream",
     "text": [
      "h\n",
      "e\n",
      "l\n",
      "l\n",
      "o\n",
      " \n",
      "w\n",
      "o\n",
      "r\n",
      "l\n",
      "d\n"
     ]
    }
   ],
   "source": [
    "a='hello world'\n",
    "l=len(a)\n",
    "for i in range(l):\n",
    "    print(a[i])"
   ]
  },
  {
   "cell_type": "code",
   "execution_count": 3,
   "id": "391f05fe-d1b1-4c0a-b16c-97faa290f6ce",
   "metadata": {},
   "outputs": [
    {
     "name": "stdout",
     "output_type": "stream",
     "text": [
      "H\n",
      "e\n",
      "l\n",
      "l\n",
      "o\n",
      " \n",
      "W\n",
      "o\n",
      "r\n",
      "l\n",
      "d\n"
     ]
    }
   ],
   "source": [
    "i=0\n",
    "a='Hello World'\n",
    "l= len(a)\n",
    "while i<l:\n",
    "    print(a[i])\n",
    "    i=i+1"
   ]
  },
  {
   "cell_type": "code",
   "execution_count": 5,
   "id": "43724207-f214-4634-baa3-0bcf191c8067",
   "metadata": {},
   "outputs": [
    {
     "name": "stdout",
     "output_type": "stream",
     "text": [
      "hello world I am  Ram.i am fromkathmandu.i am10\n"
     ]
    }
   ],
   "source": [
    "#string formatting\n",
    "name=\"Ram\"\n",
    "age=10\n",
    "add=\"kathmandu\"\n",
    "\n",
    "info=\"hello world I am \"+ \" \" +name + \".\" +\"i am from\" + str(add)+\".\"+ \"i am\" +str(age)\n",
    "print(info)"
   ]
  },
  {
   "cell_type": "code",
   "execution_count": 7,
   "id": "a7214a87-5b05-4e92-91ee-d8d89e465dbb",
   "metadata": {},
   "outputs": [
    {
     "name": "stdout",
     "output_type": "stream",
     "text": [
      "hello world I amRam I am from kathmandu i am 10\n"
     ]
    }
   ],
   "source": [
    "#f= formtatting gareko \n",
    "name=\"Ram\"\n",
    "age=10\n",
    "add=\"kathmandu\"\n",
    "\n",
    "info=f'hello world I am{name} I am from {add} i am {age}'\n",
    "print(info)"
   ]
  },
  {
   "cell_type": "code",
   "execution_count": 8,
   "id": "ba723b1a-6d79-40c6-bcb2-c0b45d5e404f",
   "metadata": {},
   "outputs": [
    {
     "name": "stdin",
     "output_type": "stream",
     "text": [
      "enter n= 3\n",
      "enter item= coke\n",
      "enter price= 25\n",
      "enter quantity= 2\n",
      "enter item= lays\n",
      "enter price= 50\n",
      "enter quantity= 3\n",
      "enter item= momo\n",
      "enter price= 100\n",
      "enter quantity= 2\n"
     ]
    },
    {
     "name": "stdout",
     "output_type": "stream",
     "text": [
      "Ram 25 2 50 \n",
      "Ram 50 3 150 \n",
      "Ram 100 2 200 \n",
      "\n"
     ]
    }
   ],
   "source": [
    "bill=''\n",
    "n=int(input('enter n='))\n",
    "for i in range(n):\n",
    "    item=input('enter item=')\n",
    "    price=int(input('enter price='))\n",
    "    quantity=int(input('enter quantity='))\n",
    "    total=price*quantity\n",
    "    bill= bill+f\"{name} {price} {quantity} {total} \\n\"\n",
    "\n",
    "print(bill)"
   ]
  },
  {
   "cell_type": "code",
   "execution_count": 11,
   "id": "e2b674d6-b35e-4c5e-94f5-50853e603672",
   "metadata": {},
   "outputs": [
    {
     "name": "stdout",
     "output_type": "stream",
     "text": [
      "yes\n"
     ]
    }
   ],
   "source": [
    "a=\"ram shyam hari sita gita\"\n",
    "search=\"ram\"\n",
    "if search in a:\n",
    "    print(\"yes\")\n",
    "else:\n",
    "    print(\"no\")"
   ]
  },
  {
   "cell_type": "code",
   "execution_count": 16,
   "id": "0384104c-d624-4e6d-ae86-876e9e1d0a8a",
   "metadata": {},
   "outputs": [
    {
     "name": "stdin",
     "output_type": "stream",
     "text": [
      "enter name= pra\n"
     ]
    },
    {
     "name": "stdout",
     "output_type": "stream",
     "text": [
      "no\n"
     ]
    }
   ],
   "source": [
    "a=\"ram shyam hari sita gita\"\n",
    "search=input('enter name=')\n",
    "if search in a:\n",
    "    print(\"yes\",a.count(search))\n",
    "else:\n",
    "    print(\"no\")"
   ]
  },
  {
   "cell_type": "code",
   "execution_count": 19,
   "id": "190d7c20-529f-42d6-ac52-dac4a72d5355",
   "metadata": {},
   "outputs": [
    {
     "name": "stdout",
     "output_type": "stream",
     "text": [
      "RAM SHYAM HARI SITA GITA\n",
      "ram shyam hari sita gita\n"
     ]
    }
   ],
   "source": [
    "a=\"ram shyam hari sita gita\"\n",
    "print(a.upper())\n",
    "print(a.lower())"
   ]
  },
  {
   "cell_type": "code",
   "execution_count": 2,
   "id": "57c1affa-1cee-46b2-92fe-e61fa8243a3a",
   "metadata": {},
   "outputs": [
    {
     "name": "stdin",
     "output_type": "stream",
     "text": [
      "enter name= RAM\n"
     ]
    },
    {
     "name": "stdout",
     "output_type": "stream",
     "text": [
      "yes 1\n"
     ]
    }
   ],
   "source": [
    "a=\"ram shyam hari sita gita\".upper()\n",
    "search=input('enter name=').upper()\n",
    "if search in a:\n",
    "    print(\"yes\",a.count(search))\n",
    "else:\n",
    "    print(\"no\")"
   ]
  },
  {
   "cell_type": "code",
   "execution_count": null,
   "id": "90125bf0-75d6-4798-a14e-e10a03054a71",
   "metadata": {},
   "outputs": [],
   "source": [
    "# immutable data type= ekchoti change gare paxi, arko choti change garna forcefully garna parxaA"
   ]
  },
  {
   "cell_type": "code",
   "execution_count": 3,
   "id": "6e99edc9-1ffe-46ee-b6b1-51ee2ab80e8f",
   "metadata": {},
   "outputs": [
    {
     "name": "stdout",
     "output_type": "stream",
     "text": [
      "no\n"
     ]
    }
   ],
   "source": [
    "a=\"ram shyam hari sita gita\"\n",
    "if \"pra\" not in a:\n",
    "    print('no')"
   ]
  },
  {
   "cell_type": "code",
   "execution_count": 4,
   "id": "a69905b4-9f92-4953-a187-d96aea750c93",
   "metadata": {},
   "outputs": [
    {
     "name": "stdout",
     "output_type": "stream",
     "text": [
      "Ram Shyam Hari Sita Gita\n"
     ]
    }
   ],
   "source": [
    "#title= space paxadi ko alphabet lai capital garxa\n",
    "a=\"ram shyam hari sita gita\"\n",
    "print(a.title())"
   ]
  },
  {
   "cell_type": "code",
   "execution_count": 6,
   "id": "1a88d6ab-9bdd-4bed-a9f1-e9efc09effef",
   "metadata": {},
   "outputs": [
    {
     "name": "stdout",
     "output_type": "stream",
     "text": [
      "False\n",
      "True\n"
     ]
    }
   ],
   "source": [
    "a=\"ram shyam hari sita gita\"\n",
    "print(a.isupper())\n",
    "print(a.islower())\n"
   ]
  },
  {
   "cell_type": "code",
   "execution_count": 7,
   "id": "8c30e2a4-f9e8-4bb6-9e2a-fb1e1e15ee15",
   "metadata": {},
   "outputs": [
    {
     "data": {
      "text/plain": [
       "True"
      ]
     },
     "execution_count": 7,
     "metadata": {},
     "output_type": "execute_result"
    }
   ],
   "source": [
    "a='Ram'\n",
    "a[0].isupper()\n"
   ]
  },
  {
   "cell_type": "code",
   "execution_count": 9,
   "id": "848d80ef-b884-4e26-9473-7d516f2da64e",
   "metadata": {},
   "outputs": [
    {
     "name": "stdout",
     "output_type": "stream",
     "text": [
      "rama shyam hari sita gita\n"
     ]
    }
   ],
   "source": [
    "#replace function:repalce a value by another value\n",
    "a=\"ram shyam hari sita gita\"\n",
    "a=a.replace('ram','rama')\n",
    "print(a)\n"
   ]
  },
  {
   "cell_type": "code",
   "execution_count": null,
   "id": "ad2fc777-5d96-4e45-a295-381595d3ff36",
   "metadata": {},
   "outputs": [],
   "source": []
  },
  {
   "cell_type": "code",
   "execution_count": 11,
   "id": "1ff46107-b84e-40fd-96ba-b0e249f2c78a",
   "metadata": {},
   "outputs": [
    {
     "name": "stdout",
     "output_type": "stream",
     "text": [
      " shyam hari sita gita\n"
     ]
    }
   ],
   "source": [
    "#string ko character lai remove garne\n",
    "a=\"ram shyam hari sita gita\"\n",
    "a=a.replace('ram','')\n",
    "print(a)"
   ]
  },
  {
   "cell_type": "code",
   "execution_count": 14,
   "id": "3a798fa8-e9be-4e78-96a8-61084791f067",
   "metadata": {},
   "outputs": [
    {
     "name": "stdin",
     "output_type": "stream",
     "text": [
      "enter value= Prashiksha\n"
     ]
    },
    {
     "name": "stdout",
     "output_type": "stream",
     "text": [
      "ahskihsarP\n",
      "no\n"
     ]
    }
   ],
   "source": [
    "#WAP to find if string is palindrome\n",
    "a=input('enter value=')\n",
    "b=print(a[::-1])\n",
    "if a==b:\n",
    "    print('yes')\n",
    "else:\n",
    "    print('no')\n"
   ]
  },
  {
   "cell_type": "code",
   "execution_count": null,
   "id": "795f6de6-e65b-48f2-9516-1cab22d93e32",
   "metadata": {},
   "outputs": [],
   "source": []
  }
 ],
 "metadata": {
  "kernelspec": {
   "display_name": "Python 3 (ipykernel)",
   "language": "python",
   "name": "python3"
  },
  "language_info": {
   "codemirror_mode": {
    "name": "ipython",
    "version": 3
   },
   "file_extension": ".py",
   "mimetype": "text/x-python",
   "name": "python",
   "nbconvert_exporter": "python",
   "pygments_lexer": "ipython3",
   "version": "3.11.7"
  }
 },
 "nbformat": 4,
 "nbformat_minor": 5
}
