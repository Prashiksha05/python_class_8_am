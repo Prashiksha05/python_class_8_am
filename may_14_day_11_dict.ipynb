{
 "cells": [
  {
   "cell_type": "code",
   "execution_count": null,
   "id": "4990a8c0-8ee5-4528-a981-4e0214cf1932",
   "metadata": {},
   "outputs": [],
   "source": [
    "# #dictionary\n",
    "# indexing\n",
    "# multiple and duplicate data or values\n",
    "# ordered \n",
    "# mutable\n",
    "#mapping ko kaam garxa, key le value lai denote garxa"
   ]
  },
  {
   "cell_type": "code",
   "execution_count": 2,
   "id": "623c4fa2-b03d-4804-9b58-c0caa2ee7591",
   "metadata": {},
   "outputs": [
    {
     "name": "stdout",
     "output_type": "stream",
     "text": [
      "<class 'dict'>\n"
     ]
    }
   ],
   "source": [
    "d=dict()\n",
    "d={}\n",
    "print(type(d))"
   ]
  },
  {
   "cell_type": "code",
   "execution_count": 5,
   "id": "24f8a939-3b12-46b7-bb8f-50ffcbb4a52a",
   "metadata": {},
   "outputs": [
    {
     "name": "stdout",
     "output_type": "stream",
     "text": [
      "apple\n",
      "ball\n",
      "{'a': 'apple', 'b': 'ball'}\n"
     ]
    }
   ],
   "source": [
    "\n",
    "#d={<key>:<value>}\n",
    "#key should always be unique, but value can be repeated\n",
    "d={'a':'apple','b':'ball'}\n",
    "print(d['a'])\n",
    "print(d['b'])\n",
    "print(d)\n"
   ]
  },
  {
   "cell_type": "code",
   "execution_count": null,
   "id": "e13d030a-2802-4423-87ab-375e418c7830",
   "metadata": {},
   "outputs": [],
   "source": [
    "#mutable:changeable\n"
   ]
  },
  {
   "cell_type": "code",
   "execution_count": 6,
   "id": "92a0061e-1846-4ded-824c-11eb83f2a4b7",
   "metadata": {},
   "outputs": [
    {
     "ename": "TypeError",
     "evalue": "unsupported operand type(s) for +: 'dict' and 'dict'",
     "output_type": "error",
     "traceback": [
      "\u001b[1;31m---------------------------------------------------------------------------\u001b[0m",
      "\u001b[1;31mTypeError\u001b[0m                                 Traceback (most recent call last)",
      "Cell \u001b[1;32mIn[6], line 4\u001b[0m\n\u001b[0;32m      2\u001b[0m a\u001b[38;5;241m=\u001b[39m{\u001b[38;5;241m1\u001b[39m:\u001b[38;5;241m1\u001b[39m,\u001b[38;5;241m2\u001b[39m:\u001b[38;5;241m4\u001b[39m,\u001b[38;5;241m3\u001b[39m:\u001b[38;5;241m6\u001b[39m,\u001b[38;5;241m4\u001b[39m:\u001b[38;5;241m16\u001b[39m}\n\u001b[0;32m      3\u001b[0m b\u001b[38;5;241m=\u001b[39m{\u001b[38;5;124m'\u001b[39m\u001b[38;5;124ma\u001b[39m\u001b[38;5;124m'\u001b[39m:\u001b[38;5;124m'\u001b[39m\u001b[38;5;124mapple\u001b[39m\u001b[38;5;124m'\u001b[39m,\u001b[38;5;124m'\u001b[39m\u001b[38;5;124mb\u001b[39m\u001b[38;5;124m'\u001b[39m:\u001b[38;5;124m'\u001b[39m\u001b[38;5;124mball\u001b[39m\u001b[38;5;124m'\u001b[39m}\n\u001b[1;32m----> 4\u001b[0m c\u001b[38;5;241m=\u001b[39ma\u001b[38;5;241m+\u001b[39mb\n\u001b[0;32m      5\u001b[0m \u001b[38;5;28mprint\u001b[39m(c)\n",
      "\u001b[1;31mTypeError\u001b[0m: unsupported operand type(s) for +: 'dict' and 'dict'"
     ]
    }
   ],
   "source": [
    "# (+ *) doesnot exist\n",
    "a={1:1,2:4,3:6,4:16}\n",
    "b={'a':'apple','b':'ball'}\n",
    "c=a+b\n",
    "print(c)\n"
   ]
  },
  {
   "cell_type": "code",
   "execution_count": 7,
   "id": "1a130529-5389-4757-9235-6e517fadfc6c",
   "metadata": {},
   "outputs": [
    {
     "data": {
      "text/plain": [
       "{'a': 'apple', 'b': 'ball', 'c': 'cat'}"
      ]
     },
     "execution_count": 7,
     "metadata": {},
     "output_type": "execute_result"
    }
   ],
   "source": [
    "a={}\n",
    "a['a']='apple'\n",
    "a['b']='ball'\n",
    "a['c']='cat'\n",
    "a"
   ]
  },
  {
   "cell_type": "code",
   "execution_count": 10,
   "id": "d7330778-6a58-48f8-8bde-e37dd85bc566",
   "metadata": {},
   "outputs": [
    {
     "name": "stdin",
     "output_type": "stream",
     "text": [
      "enter value n= 2\n",
      "enter name= ram\n",
      "enter phone= 98604837492\n",
      "enter name= shyam\n",
      "enter phone= 47569835\n"
     ]
    },
    {
     "name": "stdout",
     "output_type": "stream",
     "text": [
      "{'ram': 98604837492, 'shyam': 47569835}\n"
     ]
    }
   ],
   "source": [
    "a={}\n",
    "n=int(input('enter value n='))\n",
    "for i in range(n):\n",
    "    name=input('enter name=')\n",
    "    phone=int(input('enter phone='))\n",
    "    a[name]=phone\n",
    "print(a)"
   ]
  },
  {
   "cell_type": "code",
   "execution_count": 11,
   "id": "8cc759e7-9c6e-444c-990b-2c64f7dc9d1d",
   "metadata": {},
   "outputs": [
    {
     "data": {
      "text/plain": [
       "{'a': 'apple', 'b': 'ball', 'c': 'cat'}"
      ]
     },
     "execution_count": 11,
     "metadata": {},
     "output_type": "execute_result"
    }
   ],
   "source": [
    "a={}\n",
    "a['a']='apple'\n",
    "a['b']='ball'\n",
    "a['c']='cat'\n",
    "a"
   ]
  },
  {
   "cell_type": "code",
   "execution_count": 12,
   "id": "d90c315f-1509-487c-ada5-81f228812c53",
   "metadata": {},
   "outputs": [
    {
     "data": {
      "text/plain": [
       "{'a': 'ant', 'b': 'ball', 'c': 'cat'}"
      ]
     },
     "execution_count": 12,
     "metadata": {},
     "output_type": "execute_result"
    }
   ],
   "source": [
    "a['a']='ant'\n",
    "a\n",
    "#key shall not be duplicated, value replace hunxa"
   ]
  },
  {
   "cell_type": "code",
   "execution_count": 14,
   "id": "e335d71c-6db7-4dd0-af48-d7d479c4c763",
   "metadata": {},
   "outputs": [
    {
     "name": "stdout",
     "output_type": "stream",
     "text": [
      "ram\n",
      "shyam\n",
      "hari\n"
     ]
    }
   ],
   "source": [
    "a={'ram': 98604837492, 'shyam': 47569835,'hari':9853752098}\n",
    "for i in a:\n",
    "    print(i)\n"
   ]
  },
  {
   "cell_type": "code",
   "execution_count": 15,
   "id": "50ca70fa-fd8a-463a-a02a-72ede4486ee7",
   "metadata": {},
   "outputs": [
    {
     "name": "stdout",
     "output_type": "stream",
     "text": [
      "98604837492\n",
      "47569835\n",
      "9853752098\n"
     ]
    }
   ],
   "source": [
    "#print value\n",
    "a={'ram': 98604837492, 'shyam': 47569835,'hari':9853752098}\n",
    "for i in a.values():\n",
    "    print(i)"
   ]
  },
  {
   "cell_type": "code",
   "execution_count": 16,
   "id": "4d4f63db-f499-4ba0-801f-4faaca3a836a",
   "metadata": {},
   "outputs": [
    {
     "name": "stdout",
     "output_type": "stream",
     "text": [
      "('ram', 98604837492)\n",
      "('shyam', 47569835)\n",
      "('hari', 9853752098)\n"
     ]
    }
   ],
   "source": [
    "a={'ram': 98604837492, 'shyam': 47569835,'hari':9853752098}\n",
    "for i in a.items():\n",
    "    print(i)"
   ]
  },
  {
   "cell_type": "code",
   "execution_count": 18,
   "id": "c1c30007-2ea8-406c-b5a5-f0a2a87bd056",
   "metadata": {},
   "outputs": [
    {
     "data": {
      "text/plain": [
       "{'ram': 349850984, 'shyam': 47569835, 'hari': 9853752098, 'rama': 3094503948}"
      ]
     },
     "execution_count": 18,
     "metadata": {},
     "output_type": "execute_result"
    }
   ],
   "source": [
    "a={'ram': 98604837492, 'shyam': 47569835,'hari':9853752098}\n",
    "a['ram']=349850984\n",
    "a\n",
    "a['rama']=3094503948\n",
    "a"
   ]
  },
  {
   "cell_type": "code",
   "execution_count": 22,
   "id": "0cec9ae1-7eb9-4b2b-9e5f-6c31c4c4d574",
   "metadata": {},
   "outputs": [
    {
     "data": {
      "text/plain": [
       "{'ram': 98604837492,\n",
       " 'shyam': 47569835,\n",
       " 'hari': 9853752098,\n",
       " 'sita': 85730457035,\n",
       " 'nabin': 74509202}"
      ]
     },
     "execution_count": 22,
     "metadata": {},
     "output_type": "execute_result"
    }
   ],
   "source": [
    "#concat garna, naya dictionary ma value rakhera update\n",
    "a={'ram': 98604837492, 'shyam': 47569835,'hari':9853752098}\n",
    "b={'sita':85730457035,'nabin':74509202}\n",
    "a.update(b)\n",
    "a\n"
   ]
  },
  {
   "cell_type": "code",
   "execution_count": null,
   "id": "d0497aeb-9564-474e-bc30-078ce13469cb",
   "metadata": {},
   "outputs": [],
   "source": [
    "#DELETE in dict\n",
    "#del pop\n",
    "#delete =key value pair duitai delete garna milxa\n",
    "\n",
    "#pop= key ko value naya thau ma gayera save hunxa\n",
    "#move gardinxa"
   ]
  },
  {
   "cell_type": "code",
   "execution_count": 23,
   "id": "11443db5-b084-4552-852d-5627c0631ff4",
   "metadata": {},
   "outputs": [
    {
     "data": {
      "text/plain": [
       "{'shyam': 47569835, 'hari': 9853752098}"
      ]
     },
     "execution_count": 23,
     "metadata": {},
     "output_type": "execute_result"
    }
   ],
   "source": [
    "a={'ram': 98604837492, 'shyam': 47569835,'hari':9853752098}\n",
    "del a['ram']\n",
    "a"
   ]
  },
  {
   "cell_type": "code",
   "execution_count": 24,
   "id": "e1761f5f-d99f-451a-9cf3-e77687d1de67",
   "metadata": {},
   "outputs": [
    {
     "name": "stdout",
     "output_type": "stream",
     "text": [
      "98604837492\n"
     ]
    },
    {
     "data": {
      "text/plain": [
       "{'shyam': 47569835, 'hari': 9853752098}"
      ]
     },
     "execution_count": 24,
     "metadata": {},
     "output_type": "execute_result"
    }
   ],
   "source": [
    "a={'ram': 98604837492, 'shyam': 47569835,'hari':9853752098}\n",
    "b=a.pop('ram')\n",
    "print(b)\n",
    "a"
   ]
  },
  {
   "cell_type": "code",
   "execution_count": 26,
   "id": "16a95d24-650a-43fb-b147-872835e09e5c",
   "metadata": {},
   "outputs": [
    {
     "data": {
      "text/plain": [
       "{'ram': [98604837492, 8484275204],\n",
       " 'shyam': [47569835, 658758],\n",
       " 'hari': [9853752098, 76969869869]}"
      ]
     },
     "execution_count": 26,
     "metadata": {},
     "output_type": "execute_result"
    }
   ],
   "source": [
    "#multiple values in one key\n",
    "#list inside dict\n",
    "a={'ram': [98604837492,8484275204], 'shyam': [47569835,658758],'hari':[9853752098,76969869869]}\n",
    "a['ram']\n",
    "a"
   ]
  },
  {
   "cell_type": "code",
   "execution_count": null,
   "id": "b17e050f-e1fc-4041-b137-eae6570578ff",
   "metadata": {},
   "outputs": [],
   "source": []
  },
  {
   "cell_type": "code",
   "execution_count": null,
   "id": "5f89993f-f74d-4f9d-8f74-08898f126c53",
   "metadata": {},
   "outputs": [],
   "source": []
  },
  {
   "cell_type": "code",
   "execution_count": null,
   "id": "955b5439-7eb1-4aff-aa1c-a7c3b40594b9",
   "metadata": {},
   "outputs": [],
   "source": []
  },
  {
   "cell_type": "code",
   "execution_count": null,
   "id": "4b26f95c-5bda-4453-bcf6-7f27d8708dbc",
   "metadata": {},
   "outputs": [],
   "source": []
  },
  {
   "cell_type": "code",
   "execution_count": 28,
   "id": "fb42de68-13b5-4f0f-a8cd-7a789b93992d",
   "metadata": {},
   "outputs": [
    {
     "data": {
      "text/plain": [
       "{'name': ['ram', 'shyam', 'hari'],\n",
       " 'age': [23, 45, 56],\n",
       " 'add': ['kath', 'bhakt', 'lalitpur']}"
      ]
     },
     "execution_count": 28,
     "metadata": {},
     "output_type": "execute_result"
    }
   ],
   "source": [
    "a={'name':['ram','shyam','hari'],\n",
    "   'age':[23,45,56],\n",
    "   'add':['kath','bhakt','lalitpur']}\n",
    "a\n"
   ]
  },
  {
   "cell_type": "code",
   "execution_count": 29,
   "id": "8ae8f3db-e3cd-4097-96ef-6577c7d8e624",
   "metadata": {},
   "outputs": [
    {
     "name": "stdin",
     "output_type": "stream",
     "text": [
      "enter n= 2\n",
      "enter name= ram\n",
      "enter ntc= 986724572\n",
      "enter ncell= 980938454\n",
      "enter name= shyam\n",
      "enter ntc= 98654707584\n",
      "enter ncell= 9802894720\n"
     ]
    },
    {
     "data": {
      "text/plain": [
       "{'ram': [986724572, 980938454], 'shyam': [98654707584, 9802894720]}"
      ]
     },
     "execution_count": 29,
     "metadata": {},
     "output_type": "execute_result"
    }
   ],
   "source": [
    "# a={'ram': [98604837492,8484275204], 'shyam': [47569835,658758],'hari':[9853752098,76969869869]}\n",
    "a={}\n",
    "n=int(input('enter n='))\n",
    "for i in range(n):\n",
    "    name=input('enter name=')\n",
    "    ntc=int(input('enter ntc='))\n",
    "    ncell=int(input('enter ncell='))\n",
    "    a[name]=[ntc,ncell]\n",
    "a"
   ]
  },
  {
   "cell_type": "code",
   "execution_count": 4,
   "id": "aa56333c-f85d-4d63-af36-d3ad08ab5ef0",
   "metadata": {},
   "outputs": [
    {
     "name": "stdin",
     "output_type": "stream",
     "text": [
      "enter n= 2\n",
      "enter name= ram\n",
      "enter age= 23\n",
      "enter add= l\n",
      "enter name= shyam\n",
      "enter age= 23\n",
      "enter add= a;jfh\n"
     ]
    },
    {
     "data": {
      "text/plain": [
       "{'name': ['ram', 'shyam'], 'age': [23, 23], 'add': ['l', 'a;jfh']}"
      ]
     },
     "execution_count": 4,
     "metadata": {},
     "output_type": "execute_result"
    }
   ],
   "source": [
    "# # a={'name':['ram','shyam','hari'],\n",
    "#    'age':[23,45,56],\n",
    "#    'add':['kath','bhakt','lalitpur']}\n",
    "\n",
    "a={'name':[],'age':[],'add':[]}\n",
    "n=int(input('enter n='))\n",
    "for i in range(n):\n",
    "    name=input('enter name=')\n",
    "    age=int(input('enter age='))\n",
    "    add=input('enter add=')\n",
    "    a['name'].append(name)\n",
    "    a['age'].append(age)\n",
    "    a['add'].append(add)\n",
    "\n",
    "a"
   ]
  },
  {
   "cell_type": "code",
   "execution_count": 5,
   "id": "1e531e34-cd6d-4d28-bb34-58e288abe4c2",
   "metadata": {},
   "outputs": [
    {
     "name": "stdout",
     "output_type": "stream",
     "text": [
      "name= ram\n",
      "age= 23\n",
      "add= l\n"
     ]
    }
   ],
   "source": [
    "a={'name': ['ram', 'shyam'], 'age': [23, 23], 'add': ['l', 'a;jfh']}\n",
    "print('name=',a['name'][0])\n",
    "print('age=',a['age'][0])\n",
    "print('add=',a['add'][0])"
   ]
  },
  {
   "cell_type": "code",
   "execution_count": 6,
   "id": "b92d4bb7-2daf-4a05-ad9e-f0ed8f8b1043",
   "metadata": {},
   "outputs": [
    {
     "data": {
      "text/plain": [
       "{'name': ['ram', 'shyam'], 'age': [33, 23], 'add': ['l', 'a;jfh']}"
      ]
     },
     "execution_count": 6,
     "metadata": {},
     "output_type": "execute_result"
    }
   ],
   "source": [
    "a={'name': ['ram', 'shyam'], 'age': [23, 23], 'add': ['l', 'a;jfh']}\n",
    "a['age'][0]=33\n",
    "a"
   ]
  },
  {
   "cell_type": "code",
   "execution_count": 8,
   "id": "01a70fc9-0a0a-42ff-9ce2-6091c88630e3",
   "metadata": {},
   "outputs": [
    {
     "data": {
      "text/plain": [
       "{'name': ['shyam'], 'age': [23], 'add': ['a;jfh']}"
      ]
     },
     "execution_count": 8,
     "metadata": {},
     "output_type": "execute_result"
    }
   ],
   "source": [
    "a={'name': ['ram', 'shyam'], 'age': [23, 23], 'add': ['l', 'a;jfh']}\n",
    "del a['name'][0]\n",
    "del a['age'][0]\n",
    "del a['add'][0]\n",
    "a"
   ]
  },
  {
   "cell_type": "code",
   "execution_count": 13,
   "id": "ed2da865-c997-4760-82e2-53432db8a6f3",
   "metadata": {},
   "outputs": [
    {
     "name": "stdout",
     "output_type": "stream",
     "text": [
      "['name', 'age', 'add']\n"
     ]
    },
    {
     "name": "stdin",
     "output_type": "stream",
     "text": [
      "enter index= 1\n"
     ]
    },
    {
     "name": "stdout",
     "output_type": "stream",
     "text": [
      "{'name': ['ram'], 'age': [23], 'add': ['l']}\n"
     ]
    }
   ],
   "source": [
    "a={'name': ['ram', 'shyam'], 'age': [23, 23], 'add': ['l', 'a;jfh']}\n",
    "k=list(a.keys())\n",
    "print(k)\n",
    "index=int(input('enter index='))\n",
    "for i in a:\n",
    "    del a[i][index]\n",
    "print(a)"
   ]
  },
  {
   "cell_type": "code",
   "execution_count": 16,
   "id": "2e0e84b6-3e8e-4d74-a084-3efc550c21c2",
   "metadata": {},
   "outputs": [
    {
     "name": "stdin",
     "output_type": "stream",
     "text": [
      "enter index= 0\n",
      "entername rama\n",
      "enterage 34\n",
      "enteradd brt\n"
     ]
    },
    {
     "data": {
      "text/plain": [
       "{'name': ['rama', 'shyam'], 'age': ['34', 23], 'add': ['brt', 'bhaktapur']}"
      ]
     },
     "execution_count": 16,
     "metadata": {},
     "output_type": "execute_result"
    }
   ],
   "source": [
    "a={'name': ['ram', 'shyam'], 'age': [23, 23], 'add': ['lalitpur', 'bhaktapur']}\n",
    "index=int(input('enter index='))\n",
    "for i in a:\n",
    "    x=input(f'enter{i}')\n",
    "    a[i][index]=x\n",
    "a\n",
    "\n"
   ]
  },
  {
   "cell_type": "code",
   "execution_count": null,
   "id": "9d57a18a-f6f6-4ec3-a003-bdb281ebbd9e",
   "metadata": {},
   "outputs": [],
   "source": [
    "#dict inside list\n",
    "l=[{'name':'ram','age':23,'add':'kathmandu'},\n",
    "   {'name':'shyam','age':25,'add':'lalitpur'},\n",
    "   {'name':'hari','age':34,'add':'bhaktapur'}\n",
    "   "
   ]
  },
  {
   "cell_type": "code",
   "execution_count": 3,
   "id": "53b5814c-53b0-4e5d-8738-f2db0c47edf6",
   "metadata": {},
   "outputs": [
    {
     "name": "stdin",
     "output_type": "stream",
     "text": [
      "enter n= 2\n",
      "enter name= ram\n",
      "enter age= 23\n",
      "enter add= ktm\n",
      "enter name= shyam\n",
      "enter age= 24\n",
      "enter add= bkt\n"
     ]
    },
    {
     "data": {
      "text/plain": [
       "[{'name': 'ram', 'age': 23, 'add': 'ktm'},\n",
       " {'name': 'shyam', 'age': 24, 'add': 'bkt'}]"
      ]
     },
     "execution_count": 3,
     "metadata": {},
     "output_type": "execute_result"
    }
   ],
   "source": [
    "l=[]\n",
    "n=int(input('enter n='))\n",
    "for i in range(n):\n",
    "    name=input('enter name=')\n",
    "    age=int(input('enter age='))\n",
    "    add=input('enter add=')\n",
    "    d={'name':name,'age':age,'add':add}\n",
    "    l.append(d)\n",
    "l"
   ]
  },
  {
   "cell_type": "code",
   "execution_count": null,
   "id": "f463dfae-20c9-4c00-ae4c-3d5db6e81205",
   "metadata": {},
   "outputs": [],
   "source": [
    "# WAP to update,delete, read to the program"
   ]
  },
  {
   "cell_type": "code",
   "execution_count": null,
   "id": "5a3520d3-63b5-42a8-8ce9-444c8c74f23e",
   "metadata": {},
   "outputs": [],
   "source": [
    "#dict inside dict\n",
    "d={1:{'name':'ram','age':34,'add':'ktm'},\n",
    "   2:{'name': 'rama', 'age': 23, 'add': 'pkr'},\n",
    "   3:{'name': 'shyam', 'age': 24, 'add': 'bkt'}"
   ]
  },
  {
   "cell_type": "code",
   "execution_count": 2,
   "id": "273d1b11-ca80-430c-9357-296754f0ea2e",
   "metadata": {},
   "outputs": [
    {
     "name": "stdin",
     "output_type": "stream",
     "text": [
      "enter n= 2\n",
      "enter name= rma\n",
      "enter age= 23\n",
      "enter add= ktm\n",
      "enter name= shyam\n",
      "enter age= 24\n",
      "enter add= bhr\n"
     ]
    },
    {
     "data": {
      "text/plain": [
       "{1: {'name': 'rma', 'age': 23, 'add': 'ktm'},\n",
       " 2: {'name': 'shyam', 'age': 24, 'add': 'bhr'}}"
      ]
     },
     "execution_count": 2,
     "metadata": {},
     "output_type": "execute_result"
    }
   ],
   "source": [
    "info={}\n",
    "n=int(input('enter n='))\n",
    "for i in range(1,n+1):\n",
    "    name=input('enter name=')\n",
    "    age=int(input('enter age='))\n",
    "    add=input('enter add=')\n",
    "    info[i]={'name':name,'age':age,'add':add}\n",
    "   \n",
    "info"
   ]
  },
  {
   "cell_type": "code",
   "execution_count": null,
   "id": "ebbdd6ff-9e00-40da-883a-7566d3ab84cb",
   "metadata": {},
   "outputs": [],
   "source": [
    "# WAP to add, update,delete, read to the program"
   ]
  }
 ],
 "metadata": {
  "kernelspec": {
   "display_name": "Python 3 (ipykernel)",
   "language": "python",
   "name": "python3"
  },
  "language_info": {
   "codemirror_mode": {
    "name": "ipython",
    "version": 3
   },
   "file_extension": ".py",
   "mimetype": "text/x-python",
   "name": "python",
   "nbconvert_exporter": "python",
   "pygments_lexer": "ipython3",
   "version": "3.11.7"
  }
 },
 "nbformat": 4,
 "nbformat_minor": 5
}
