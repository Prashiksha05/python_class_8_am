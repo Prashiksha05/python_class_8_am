{
 "cells": [
  {
   "cell_type": "code",
   "execution_count": null,
   "id": "ad05612e-5140-4a74-8326-cd31f7e8a774",
   "metadata": {},
   "outputs": [],
   "source": [
    "tuple\n",
    "-indexing\n",
    "-multiple and Duplicate data\n",
    "-ordered\n",
    "-immutable"
   ]
  },
  {
   "cell_type": "code",
   "execution_count": 2,
   "id": "72475188-a72f-416d-b043-8cef0405f84f",
   "metadata": {},
   "outputs": [
    {
     "name": "stdout",
     "output_type": "stream",
     "text": [
      "<class 'tuple'>\n",
      "<class 'tuple'>\n"
     ]
    }
   ],
   "source": [
    "t=tuple()\n",
    "a=(1,2,3,4,5,6,7,8)\n",
    "b=('apple','ball','cat')\n",
    "print(type(a))\n",
    "print(type(b))"
   ]
  },
  {
   "cell_type": "code",
   "execution_count": 5,
   "id": "db855b59-2243-4f07-9cc4-818985608205",
   "metadata": {},
   "outputs": [
    {
     "name": "stdout",
     "output_type": "stream",
     "text": [
      "<class 'str'>\n"
     ]
    },
    {
     "data": {
      "text/plain": [
       "tuple"
      ]
     },
     "execution_count": 5,
     "metadata": {},
     "output_type": "execute_result"
    }
   ],
   "source": [
    "t=('apple')\n",
    "print(type(t))\n",
    "#single value matra rakhda string hunxa\n",
    "t=('apple',)\n",
    "#single value rakhda comma(,) dina parxa to make tuple\n",
    "type(t)"
   ]
  },
  {
   "cell_type": "code",
   "execution_count": 6,
   "id": "b1f94575-e04c-4a62-982d-9aedfe031b72",
   "metadata": {},
   "outputs": [
    {
     "name": "stdout",
     "output_type": "stream",
     "text": [
      "apple\n",
      "('apple', 'ball')\n"
     ]
    }
   ],
   "source": [
    "b=('apple','ball','cat')\n",
    "print(b[0])\n",
    "print(b[0:2])"
   ]
  },
  {
   "cell_type": "code",
   "execution_count": null,
   "id": "2c59cb05-b316-45e6-bf87-729c8676cea8",
   "metadata": {},
   "outputs": [],
   "source": [
    "# No append(), insert(), extend()\n",
    "# no update\n",
    "# no delete\n",
    "# no sort()"
   ]
  },
  {
   "cell_type": "code",
   "execution_count": 7,
   "id": "3531ba2d-6f9b-4e54-a541-761348853b7d",
   "metadata": {},
   "outputs": [
    {
     "data": {
      "text/plain": [
       "(1, 2, 3, 4, 5, 6, 7, 8, 9, 0)"
      ]
     },
     "execution_count": 7,
     "metadata": {},
     "output_type": "execute_result"
    }
   ],
   "source": [
    "a=(1,2,3,4,5)\n",
    "b=(6,7,8,9,0)\n",
    "c=a+b\n",
    "c\n"
   ]
  },
  {
   "cell_type": "code",
   "execution_count": 8,
   "id": "4937f041-b438-42ee-a19a-3175dd1eeac7",
   "metadata": {},
   "outputs": [
    {
     "name": "stdout",
     "output_type": "stream",
     "text": [
      "(1, 2, 3, 4, 5, 1, 2, 3, 4, 5)\n"
     ]
    }
   ],
   "source": [
    "a=(1,2,3,4,5)\n",
    "print(a*2)"
   ]
  },
  {
   "cell_type": "code",
   "execution_count": 11,
   "id": "8a84f9d8-541e-4891-a676-f73a040350cc",
   "metadata": {},
   "outputs": [
    {
     "name": "stdin",
     "output_type": "stream",
     "text": [
      "enter n= 2\n",
      "enter x= 3\n",
      "enter x= 4\n"
     ]
    },
    {
     "data": {
      "text/plain": [
       "(3, 4)"
      ]
     },
     "execution_count": 11,
     "metadata": {},
     "output_type": "execute_result"
    }
   ],
   "source": [
    "#concatination in tuple\n",
    "t=()\n",
    "n=int(input('enter n='))\n",
    "for i in range(n):\n",
    "    x=int(input('enter x='))\n",
    "    t=t+(x,)\n",
    "t"
   ]
  },
  {
   "cell_type": "code",
   "execution_count": 12,
   "id": "30bb5d0f-a686-4c56-90f2-3d78ae4ce74b",
   "metadata": {},
   "outputs": [
    {
     "name": "stdout",
     "output_type": "stream",
     "text": [
      "2\n",
      "6\n",
      "20\n"
     ]
    }
   ],
   "source": [
    "a=(2,3,4,5,6)\n",
    "print(min(a))\n",
    "print(max(a))\n",
    "print(sum(a))"
   ]
  },
  {
   "cell_type": "code",
   "execution_count": 13,
   "id": "ebd47491-ac70-4e68-8118-05867cd20bce",
   "metadata": {},
   "outputs": [
    {
     "data": {
      "text/plain": [
       "[1, 2, 3, 3, 4, 4, 5, 5, 6, 6, 7, 9, 12, 12, 23, 34]"
      ]
     },
     "execution_count": 13,
     "metadata": {},
     "output_type": "execute_result"
    }
   ],
   "source": [
    "a=(1,5,7,2,3,4,5,6,3,4,6,9,23,12,34,12)\n",
    "sorted(a)"
   ]
  },
  {
   "cell_type": "code",
   "execution_count": 14,
   "id": "37579fd5-7795-4036-8ce2-4b50242a6728",
   "metadata": {},
   "outputs": [
    {
     "data": {
      "text/plain": [
       "('ball', 'cat')"
      ]
     },
     "execution_count": 14,
     "metadata": {},
     "output_type": "execute_result"
    }
   ],
   "source": [
    "#TUPLE TO LIST\n",
    "b=('apple','ball','cat')\n",
    "c=list(b)\n",
    "del c[0]\n",
    "b=tuple(c)\n",
    "b"
   ]
  },
  {
   "cell_type": "code",
   "execution_count": 15,
   "id": "f4a45a42-00f5-4de6-911c-2034357c3884",
   "metadata": {},
   "outputs": [
    {
     "data": {
      "text/plain": [
       "(1, 2, 3, 4, 5)"
      ]
     },
     "execution_count": 15,
     "metadata": {},
     "output_type": "execute_result"
    }
   ],
   "source": [
    "a=(1,2,3,4,5)\n",
    "b=list(a)\n",
    "b=tuple(b)\n",
    "a"
   ]
  },
  {
   "cell_type": "code",
   "execution_count": null,
   "id": "91ec78d9-8492-4a8c-a08e-2dec51b4b336",
   "metadata": {},
   "outputs": [],
   "source": [
    "#Tuple inside tuple\n"
   ]
  },
  {
   "cell_type": "code",
   "execution_count": 18,
   "id": "01ec204a-02df-4508-87c5-08a2f6d61cd6",
   "metadata": {},
   "outputs": [
    {
     "name": "stdin",
     "output_type": "stream",
     "text": [
      "enter n= 2\n",
      "enter name= ram\n",
      "enter age= 23\n",
      "enter add= sds\n",
      "enter name= shyam\n",
      "enter age= 21\n",
      "enter add= adaf\n"
     ]
    },
    {
     "data": {
      "text/plain": [
       "(('ram', 23, 'sds'), ('shyam', 21, 'adaf'))"
      ]
     },
     "execution_count": 18,
     "metadata": {},
     "output_type": "execute_result"
    }
   ],
   "source": [
    "info=()\n",
    "n=int(input('enter n='))\n",
    "for i in range(n):\n",
    "    name=input('enter name=')\n",
    "    age=int(input('enter age='))\n",
    "    add=input('enter add=')\n",
    "    info=info+((name,age,add),)#(double bracket and , )\n",
    "info"
   ]
  },
  {
   "cell_type": "code",
   "execution_count": null,
   "id": "0f525320-11d8-4e3e-aa5c-ad36ac61c5bd",
   "metadata": {},
   "outputs": [],
   "source": [
    "#SET"
   ]
  },
  {
   "cell_type": "code",
   "execution_count": null,
   "id": "b64f8d5e-2085-4950-b48d-b153b5df3619",
   "metadata": {},
   "outputs": [],
   "source": [
    "# -no indexing\n",
    "# -multple but no duplicate data\n",
    "# -unordered\n",
    "# -mutable\n"
   ]
  },
  {
   "cell_type": "code",
   "execution_count": null,
   "id": "df45c03c-912c-4ff3-a444-f76354b5101e",
   "metadata": {},
   "outputs": [],
   "source": [
    "s=set()\n",
    "s={}"
   ]
  },
  {
   "cell_type": "code",
   "execution_count": 20,
   "id": "cababfe8-d2d6-47bb-95db-4ee1a9edbdd2",
   "metadata": {},
   "outputs": [
    {
     "name": "stdout",
     "output_type": "stream",
     "text": [
      "<class 'set'>\n"
     ]
    }
   ],
   "source": [
    "s={1,2,3,4,5}\n",
    "print(type(s))"
   ]
  },
  {
   "cell_type": "code",
   "execution_count": 21,
   "id": "8ba1e116-4d90-4420-be01-60f29552c2fc",
   "metadata": {},
   "outputs": [
    {
     "name": "stdout",
     "output_type": "stream",
     "text": [
      "{'apple', 'cat', 'dog', 'ball'}\n"
     ]
    }
   ],
   "source": [
    "a={'apple','ball','cat','dog'}\n",
    "print(a)"
   ]
  },
  {
   "cell_type": "code",
   "execution_count": 22,
   "id": "1e2cb2b2-5693-4e72-bb48-a91a6e8e41d0",
   "metadata": {},
   "outputs": [
    {
     "ename": "TypeError",
     "evalue": "'set' object is not subscriptable",
     "output_type": "error",
     "traceback": [
      "\u001b[1;31m---------------------------------------------------------------------------\u001b[0m",
      "\u001b[1;31mTypeError\u001b[0m                                 Traceback (most recent call last)",
      "Cell \u001b[1;32mIn[22], line 1\u001b[0m\n\u001b[1;32m----> 1\u001b[0m a[\u001b[38;5;241m0\u001b[39m]\n",
      "\u001b[1;31mTypeError\u001b[0m: 'set' object is not subscriptable"
     ]
    }
   ],
   "source": [
    "a[0]"
   ]
  },
  {
   "cell_type": "code",
   "execution_count": 24,
   "id": "e470b9dd-a493-4f89-bac3-500a8c1a9155",
   "metadata": {},
   "outputs": [
    {
     "data": {
      "text/plain": [
       "{'apple', 'ball', 'cat', 'dog', 'fish'}"
      ]
     },
     "execution_count": 24,
     "metadata": {},
     "output_type": "execute_result"
    }
   ],
   "source": [
    "#unique data matra ralhxa, duplicate data delete gardinxa\n",
    "a={'apple','ball','cat','dog','apple','fish','fish'}\n",
    "a"
   ]
  },
  {
   "cell_type": "code",
   "execution_count": 26,
   "id": "4ce0de4c-f7f9-44f6-afdc-ccb03c6c10b5",
   "metadata": {},
   "outputs": [
    {
     "name": "stdout",
     "output_type": "stream",
     "text": [
      "{1, 2, 3, 4, 5, 7, 8, 9}\n"
     ]
    },
    {
     "data": {
      "text/plain": [
       "{1, 2, 3, 4, 5, 7, 8, 9, 'apple'}"
      ]
     },
     "execution_count": 26,
     "metadata": {},
     "output_type": "execute_result"
    }
   ],
   "source": [
    "s={7,8,9,1,2,3,4,5}\n",
    "t={7,8,9,1,2,3,4,'apple',5}\n",
    "print(s)\n",
    "t"
   ]
  },
  {
   "cell_type": "code",
   "execution_count": 27,
   "id": "934fd5d6-ce08-4b44-a1ba-1a4a829fc3e4",
   "metadata": {},
   "outputs": [
    {
     "name": "stdout",
     "output_type": "stream",
     "text": [
      "<class 'dict'>\n"
     ]
    },
    {
     "data": {
      "text/plain": [
       "{1}"
      ]
     },
     "execution_count": 27,
     "metadata": {},
     "output_type": "execute_result"
    }
   ],
   "source": [
    "s={}\n",
    "print(type(s))\n",
    "s={1}\n",
    "s"
   ]
  },
  {
   "cell_type": "code",
   "execution_count": null,
   "id": "38435323-4513-4a61-bc3a-95865e34b269",
   "metadata": {},
   "outputs": [],
   "source": [
    "s=set(s)\n"
   ]
  },
  {
   "cell_type": "code",
   "execution_count": 28,
   "id": "55451a93-8970-46f9-8608-2c239e678ba5",
   "metadata": {},
   "outputs": [
    {
     "data": {
      "text/plain": [
       "{'apple', 'ball', 'cat'}"
      ]
     },
     "execution_count": 28,
     "metadata": {},
     "output_type": "execute_result"
    }
   ],
   "source": [
    "#add\n",
    "s=set()\n",
    "s.add('apple')\n",
    "s.add('ball')\n",
    "s.add('cat')\n",
    "s\n",
    "\n"
   ]
  },
  {
   "cell_type": "code",
   "execution_count": 29,
   "id": "8c23eb1f-71e2-47db-817f-60589666080d",
   "metadata": {},
   "outputs": [
    {
     "data": {
      "text/plain": [
       "{'ball', 'cat', 'dog', 'fish'}"
      ]
     },
     "execution_count": 29,
     "metadata": {},
     "output_type": "execute_result"
    }
   ],
   "source": [
    "#remove\n",
    "a={'apple','ball','cat','dog','apple','fish','fish'}\n",
    "a.remove('apple')\n",
    "a\n",
    "\n"
   ]
  },
  {
   "cell_type": "code",
   "execution_count": null,
   "id": "78c6b03e-7510-4c68-9b74-ccdc812deaf8",
   "metadata": {},
   "outputs": [],
   "source": [
    "a={'apple','ball','cat','dog','apple','fish','fish'}\n",
    "a.remove('apple')\n",
    "a"
   ]
  },
  {
   "cell_type": "code",
   "execution_count": 30,
   "id": "22a17239-37ad-4e10-b557-371be7863707",
   "metadata": {},
   "outputs": [
    {
     "name": "stdout",
     "output_type": "stream",
     "text": [
      "apple\n",
      "cat\n",
      "ball\n"
     ]
    }
   ],
   "source": [
    "a={'apple','ball','cat','dog','fish'}\n",
    "for i in s:\n",
    "    print(i)"
   ]
  },
  {
   "cell_type": "code",
   "execution_count": 41,
   "id": "d3eb04fd-7872-4f72-b05b-75d8222dc67a",
   "metadata": {},
   "outputs": [
    {
     "name": "stdout",
     "output_type": "stream",
     "text": [
      "beroggar= {'ddsds', 'abc', 'ads'}\n",
      "both in apple and ms= {'kamal', 'ram'}\n"
     ]
    }
   ],
   "source": [
    "#set for math\n",
    "U={'sita', 'kamal', 'john', 'steve', 'bill', 'ram', 'kamala', 'harry', 'jack', 'satya', 'hari','abc','ads','ddsds'}\n",
    "apple={'ram','hari','steve','jack','john','kamal'}\n",
    "ms={'ram','bill','satya','kamala','sita','harry','kamal'}\n",
    "print('beroggar=',U-apple.union(ms))\n",
    "print('both in apple and ms=',apple.intersection(ms))"
   ]
  },
  {
   "cell_type": "code",
   "execution_count": 34,
   "id": "f9b95492-8f04-4f1f-8907-5181faa9fb83",
   "metadata": {},
   "outputs": [
    {
     "name": "stdout",
     "output_type": "stream",
     "text": [
      "when both combines= {'sita', 'kamal', 'john', 'steve', 'bill', 'ram', 'kamala', 'harry', 'jack', 'satya', 'hari'}\n"
     ]
    }
   ],
   "source": [
    "print('when both combines=',apple.union(ms))"
   ]
  },
  {
   "cell_type": "code",
   "execution_count": 35,
   "id": "1fcca968-e96d-443b-bf89-744f068d2d2f",
   "metadata": {},
   "outputs": [
    {
     "name": "stdout",
     "output_type": "stream",
     "text": [
      "only apple= {'jack', 'steve', 'hari', 'john'}\n"
     ]
    }
   ],
   "source": [
    "print('only apple=', apple-ms)"
   ]
  },
  {
   "cell_type": "code",
   "execution_count": 36,
   "id": "fc12f1de-8fb1-47d0-8b38-6347c8f4b6e0",
   "metadata": {},
   "outputs": [
    {
     "name": "stdout",
     "output_type": "stream",
     "text": [
      "only ms= {'sita', 'bill', 'kamala', 'satya', 'harry'}\n"
     ]
    }
   ],
   "source": [
    "print('only ms=',ms-apple)"
   ]
  },
  {
   "cell_type": "code",
   "execution_count": null,
   "id": "f3d3ab0e-1536-4718-bad7-e2c083a3e00b",
   "metadata": {},
   "outputs": [],
   "source": []
  }
 ],
 "metadata": {
  "kernelspec": {
   "display_name": "Python 3 (ipykernel)",
   "language": "python",
   "name": "python3"
  },
  "language_info": {
   "codemirror_mode": {
    "name": "ipython",
    "version": 3
   },
   "file_extension": ".py",
   "mimetype": "text/x-python",
   "name": "python",
   "nbconvert_exporter": "python",
   "pygments_lexer": "ipython3",
   "version": "3.11.7"
  }
 },
 "nbformat": 4,
 "nbformat_minor": 5
}
