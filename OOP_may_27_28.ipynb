{
 "cells": [
  {
   "cell_type": "code",
   "execution_count": null,
   "id": "cc703573-4774-44e1-8eb4-104cdf014729",
   "metadata": {},
   "outputs": [],
   "source": [
    "# class<name>:\n",
    "#     <method>\n",
    "# <name>()"
   ]
  },
  {
   "cell_type": "code",
   "execution_count": 1,
   "id": "05dfeccb-9c50-493d-b529-508ab2ce9b8d",
   "metadata": {},
   "outputs": [
    {
     "name": "stdout",
     "output_type": "stream",
     "text": [
      "Hello World\n"
     ]
    }
   ],
   "source": [
    "class Hello: #class always strarts from capital letter\n",
    "    def hello(self): #function defined by small \n",
    "        print('Hello World')\n",
    "obj=Hello()\n",
    "obj.hello()"
   ]
  },
  {
   "cell_type": "code",
   "execution_count": 3,
   "id": "935ec0f5-f670-437c-a9bc-151deb44919c",
   "metadata": {},
   "outputs": [
    {
     "name": "stdout",
     "output_type": "stream",
     "text": [
      "Hello World\n"
     ]
    }
   ],
   "source": [
    "class Hello: \n",
    "    @staticmethod#decorator:function vitra use vayeko resource matr use \n",
    "    def hello(): \n",
    "        print('Hello World')\n",
    "obj=Hello()\n",
    "obj.hello()"
   ]
  },
  {
   "cell_type": "code",
   "execution_count": 2,
   "id": "b74a8cfe-9644-4e3b-8b57-ae396ad2d241",
   "metadata": {},
   "outputs": [
    {
     "name": "stdin",
     "output_type": "stream",
     "text": [
      "enter l= 3\n",
      "enter b= 4\n"
     ]
    },
    {
     "name": "stdout",
     "output_type": "stream",
     "text": [
      "12\n"
     ]
    }
   ],
   "source": [
    "class Cal: \n",
    "    def area(self): \n",
    "        l=int(input('enter l='))\n",
    "        b=int(input('enter b='))\n",
    "        v=l*b\n",
    "        print(v)\n",
    "obj=Cal()\n",
    "obj.area()"
   ]
  },
  {
   "cell_type": "code",
   "execution_count": 5,
   "id": "91a26e6b-cc97-464c-bf3a-277d6ba28894",
   "metadata": {},
   "outputs": [
    {
     "name": "stdin",
     "output_type": "stream",
     "text": [
      "enter h= 3\n",
      "enter l= 4\n",
      "enter b= 5\n"
     ]
    },
    {
     "name": "stdout",
     "output_type": "stream",
     "text": [
      "60\n"
     ]
    }
   ],
   "source": [
    "class Cal: \n",
    "    def volume(self,h): \n",
    "        l=int(input('enter l='))\n",
    "        b=int(input('enter b='))\n",
    "        v=l*b*h\n",
    "        print(v)\n",
    "obj=Cal()\n",
    "h=int(input('enter h='))\n",
    "obj.volume(h)"
   ]
  },
  {
   "cell_type": "code",
   "execution_count": 4,
   "id": "f348dd3c-25b1-43c8-af71-4cab7a5ca9ff",
   "metadata": {},
   "outputs": [
    {
     "name": "stdin",
     "output_type": "stream",
     "text": [
      "enter l= 2\n",
      "enter b= 3\n",
      "enter h= 4\n"
     ]
    },
    {
     "name": "stdout",
     "output_type": "stream",
     "text": [
      "24\n"
     ]
    }
   ],
   "source": [
    "class Cal: \n",
    "    def __init__(self):\n",
    "      self.l=int(input('enter l='))\n",
    "      self.b=int(input('enter b='))\n",
    "      self.h=int(input('enter h='))\n",
    "    \n",
    "    def volume(self): \n",
    "        v=self.l*self.b*self.h\n",
    "        print(v)\n",
    "obj=Cal()\n",
    "obj.volume()"
   ]
  },
  {
   "cell_type": "code",
   "execution_count": 11,
   "id": "9209e93c-c738-4bbc-881e-810998ba3db5",
   "metadata": {},
   "outputs": [
    {
     "ename": "TypeError",
     "evalue": "Info.__init__() missing 3 required positional arguments: 'name', 'age', and 'add'",
     "output_type": "error",
     "traceback": [
      "\u001b[1;31m---------------------------------------------------------------------------\u001b[0m",
      "\u001b[1;31mTypeError\u001b[0m                                 Traceback (most recent call last)",
      "Cell \u001b[1;32mIn[11], line 10\u001b[0m\n\u001b[0;32m      8\u001b[0m     \u001b[38;5;28;01mdef\u001b[39;00m \u001b[38;5;21minfo\u001b[39m(\u001b[38;5;28mself\u001b[39m):\n\u001b[0;32m      9\u001b[0m         \u001b[38;5;28mprint\u001b[39m(\u001b[38;5;124mf\u001b[39m\u001b[38;5;124m\"\u001b[39m\u001b[38;5;124mhello World I am \u001b[39m\u001b[38;5;132;01m{\u001b[39;00m\u001b[38;5;28mself\u001b[39m\u001b[38;5;241m.\u001b[39mname\u001b[38;5;132;01m}\u001b[39;00m\u001b[38;5;124m. I am \u001b[39m\u001b[38;5;132;01m{\u001b[39;00m\u001b[38;5;28mself\u001b[39m\u001b[38;5;241m.\u001b[39mage\u001b[38;5;132;01m}\u001b[39;00m\u001b[38;5;124m. I am from\u001b[39m\u001b[38;5;132;01m{\u001b[39;00m\u001b[38;5;28mself\u001b[39m\u001b[38;5;241m.\u001b[39madd\u001b[38;5;132;01m}\u001b[39;00m\u001b[38;5;124m\"\u001b[39m)\n\u001b[1;32m---> 10\u001b[0m obj\u001b[38;5;241m=\u001b[39mInfo()\n\u001b[0;32m     11\u001b[0m obj\u001b[38;5;241m.\u001b[39mdata()\n\u001b[0;32m     12\u001b[0m obj\u001b[38;5;241m.\u001b[39minfo()\n",
      "\u001b[1;31mTypeError\u001b[0m: Info.__init__() missing 3 required positional arguments: 'name', 'age', and 'add'"
     ]
    }
   ],
   "source": [
    "class Info:\n",
    "    def __init__(self,name,age,add):\n",
    "        self.name=input('enter name=')\n",
    "        self.age=input('enter age=')\n",
    "        self.add=input('enter add=')\n",
    "    def data(self):\n",
    "        print(self.name,self.add)\n",
    "    def info(self):\n",
    "        print(f\"hello World I am {self.n}. I am {self.a}. I am from{self.ad\")\n",
    "obj=Info()\n",
    "obj.data()\n",
    "obj.info()"
   ]
  },
  {
   "cell_type": "code",
   "execution_count": null,
   "id": "0576ca5d-0965-4a52-844e-604f15870497",
   "metadata": {},
   "outputs": [],
   "source": [
    "class Info:\n",
    "    def __init__(self):\n",
    "        self.n= name\n",
    "        self.a= age\n",
    "        self.ad= add\n",
    "        \n",
    "    def data(self):\n",
    "        print(self.n,self.ad)\n",
    "        \n",
    "    def info(self):\n",
    "        print(f\"hello World I am {self.name}. I am {self.age}. I am from{self.add}\")\n",
    "name=input('enter name=')\n",
    "age=input('enter age=')\n",
    "add=input('enter add=')\n",
    "\n",
    "\n",
    "obj=Info(name,age,add)\n",
    "obj.data()\n",
    "obj.info()"
   ]
  },
  {
   "cell_type": "code",
   "execution_count": null,
   "id": "20070a38-9652-4b6a-a383-0d001b35e53e",
   "metadata": {},
   "outputs": [],
   "source": [
    "# CLASS MAY 28 "
   ]
  },
  {
   "cell_type": "code",
   "execution_count": null,
   "id": "fcdee22b-b20d-4d7a-9aae-438561819be3",
   "metadata": {},
   "outputs": [],
   "source": [
    "#Inheritance"
   ]
  },
  {
   "cell_type": "code",
   "execution_count": null,
   "id": "f2e1a602-f813-4093-9f95-5e3bef0badf4",
   "metadata": {},
   "outputs": [],
   "source": [
    "# class<class_name1>:\n",
    "#     <methods>\n",
    "# class <class_name2>(<class_name1>):\n",
    "#     <methods>\n",
    "# #obj=<class_name2>()\n"
   ]
  },
  {
   "cell_type": "code",
   "execution_count": null,
   "id": "df742912-7f49-4fee-9db6-84da1be3b813",
   "metadata": {},
   "outputs": [],
   "source": [
    "class A:       #parent class\n",
    "    pass\n",
    "class B(A):     #child class\n",
    "    pass\n",
    "obj=B()"
   ]
  },
  {
   "cell_type": "code",
   "execution_count": 2,
   "id": "e23ef4c0-2cf1-47de-9546-81c489fd6493",
   "metadata": {},
   "outputs": [
    {
     "name": "stdout",
     "output_type": "stream",
     "text": [
      "Hello World I am Ram.I am from Kathandu. I am 34\n",
      "Ram 34 Kathandu\n"
     ]
    }
   ],
   "source": [
    "class Data:\n",
    "    def __init__(self):\n",
    "        self.name='Ram'\n",
    "        self.age= 34\n",
    "        self.add='Kathandu'\n",
    "    def data(self):\n",
    "        print(self.name,self.age,self.add)\n",
    "class Info(Data):\n",
    "    def info(self):\n",
    "        print(f\"Hello World I am {self.name}.I am from {self.add}. I am {self.age}\")\n",
    "        \n",
    "obj=Info()\n",
    "obj.info()\n",
    "obj.data()\n",
    "  "
   ]
  },
  {
   "cell_type": "code",
   "execution_count": 6,
   "id": "508b85f9-f12a-4a49-8f79-2f18292559be",
   "metadata": {},
   "outputs": [
    {
     "name": "stdin",
     "output_type": "stream",
     "text": [
      "enter name= prasi\n",
      "enter age= 24\n",
      "enter add= pokhara\n"
     ]
    },
    {
     "name": "stdout",
     "output_type": "stream",
     "text": [
      "Hello World I am prasi.I am from pokhara. I am 24\n",
      "prasi 24 pokhara\n"
     ]
    }
   ],
   "source": [
    "class Data:\n",
    "    def __init__(self,name,age,add):\n",
    "        self.name=name\n",
    "        self.age= age\n",
    "        self.add=add\n",
    "    def data(self):\n",
    "        print(self.name,self.age,self.add)\n",
    "class Info(Data):\n",
    "    def info(self):\n",
    "        print(f\"Hello World I am {self.name}.I am from {self.add}. I am {self.age}\")\n",
    "name=input('enter name=')\n",
    "age=int(input('enter age='))\n",
    "add=input('enter add=')\n",
    "obj=Info(name,age,add)\n",
    "obj.info()\n",
    "obj.data()\n",
    "  "
   ]
  },
  {
   "cell_type": "code",
   "execution_count": 21,
   "id": "dcdd3ae1-426b-433e-9184-29c9501ebd8d",
   "metadata": {},
   "outputs": [
    {
     "name": "stdin",
     "output_type": "stream",
     "text": [
      "enter name= hjghj\n",
      "enter age= 56\n",
      "enter add= dcfgvbh\n"
     ]
    },
    {
     "ename": "TypeError",
     "evalue": "Info() takes no arguments",
     "output_type": "error",
     "traceback": [
      "\u001b[1;31m---------------------------------------------------------------------------\u001b[0m",
      "\u001b[1;31mTypeError\u001b[0m                                 Traceback (most recent call last)",
      "Cell \u001b[1;32mIn[21], line 21\u001b[0m\n\u001b[0;32m     18\u001b[0m age\u001b[38;5;241m=\u001b[39m\u001b[38;5;28mint\u001b[39m(\u001b[38;5;28minput\u001b[39m(\u001b[38;5;124m'\u001b[39m\u001b[38;5;124menter age=\u001b[39m\u001b[38;5;124m'\u001b[39m))\n\u001b[0;32m     19\u001b[0m add\u001b[38;5;241m=\u001b[39m\u001b[38;5;28minput\u001b[39m(\u001b[38;5;124m'\u001b[39m\u001b[38;5;124menter add=\u001b[39m\u001b[38;5;124m'\u001b[39m)\n\u001b[1;32m---> 21\u001b[0m obj\u001b[38;5;241m=\u001b[39m Info(name,age,add)\n\u001b[0;32m     22\u001b[0m obj\u001b[38;5;241m.\u001b[39minfo()\n\u001b[0;32m     23\u001b[0m obj\u001b[38;5;241m.\u001b[39mdata()\n",
      "\u001b[1;31mTypeError\u001b[0m: Info() takes no arguments"
     ]
    }
   ],
   "source": [
    "class Data:\n",
    "    def __init_(self,add):\n",
    "        self.add=add\n",
    "        \n",
    "    def data(self):\n",
    "         print(self.add)\n",
    "        \n",
    "class Info(Data):\n",
    "      def __init_(self,name,age,add):\n",
    "          self.name=name\n",
    "          self.age= age\n",
    "          Data.__init__(self,add)\n",
    "          \n",
    "      def info(self):\n",
    "          print(f\"Hello World I am {self.name}.I am from {self.add}. I am {self.age}\")\n",
    "         \n",
    "name=input('enter name=')\n",
    "age=int(input('enter age='))\n",
    "add=input('enter add=')\n",
    "        \n",
    "obj= Info(name,age,add)\n",
    "obj.info()\n",
    "obj.data()\n",
    "  "
   ]
  },
  {
   "cell_type": "code",
   "execution_count": null,
   "id": "8cf86fd1-6977-4645-ad9c-8a15189b7351",
   "metadata": {},
   "outputs": [],
   "source": [
    "#multiple\n",
    "class A:\n",
    "    pass\n",
    "class B(A):\n",
    "    pass\n",
    "class C(A,B):\n",
    "    pass\n",
    "obj=C()\n"
   ]
  },
  {
   "cell_type": "code",
   "execution_count": 29,
   "id": "2407ba46-3ecd-4e94-a45d-33ae0a0f819a",
   "metadata": {},
   "outputs": [
    {
     "name": "stdin",
     "output_type": "stream",
     "text": [
      "enter name= ram\n",
      "enter age= 22\n",
      "enter add= ktm\n"
     ]
    },
    {
     "name": "stdout",
     "output_type": "stream",
     "text": [
      "Hello World I am ram.I am from ktm. I am 22\n",
      "ktm\n",
      "22\n"
     ]
    }
   ],
   "source": [
    "class Age:\n",
    "    def __init__(self,age):\n",
    "        self.age=age\n",
    "    def my_age(self):\n",
    "        print(self.age)\n",
    "class Data(Age):\n",
    "    def __init__(self,age,add):\n",
    "        self.add=add\n",
    "        Age.__init__(self,age)\n",
    "        \n",
    "    def data(self):\n",
    "         print(self.add)\n",
    "        \n",
    "class Info(Data):\n",
    "      def __init__(self,name,age,add):\n",
    "          self.name=name\n",
    "          self.age= age\n",
    "          Data.__init__(self,age,add)\n",
    "          \n",
    "      def info(self):\n",
    "          print(f\"Hello World I am {self.name}.I am from {self.add}. I am {self.age}\")\n",
    "         \n",
    "name=input('enter name=')\n",
    "age=int(input('enter age='))\n",
    "add=input('enter add=')\n",
    "        \n",
    "obj= Info(name,age,add)\n",
    "obj.info()\n",
    "obj.data()\n",
    "obj.my_age()"
   ]
  },
  {
   "cell_type": "code",
   "execution_count": 35,
   "id": "837153c1-0122-40ee-b988-8ba785ea2591",
   "metadata": {},
   "outputs": [
    {
     "name": "stdin",
     "output_type": "stream",
     "text": [
      "enter name= ram\n",
      "enter age= 22\n",
      "enter add= ktm\n"
     ]
    },
    {
     "name": "stdout",
     "output_type": "stream",
     "text": [
      "Hello World I am ram.I am from ktm. I am 22\n",
      "ktm\n"
     ]
    }
   ],
   "source": [
    "class Age:\n",
    "    def __init__(self,age):\n",
    "        self.age=age\n",
    "    def my_age(self):\n",
    "        print(self.age)\n",
    "class Data:\n",
    "    def __init__(self,add):\n",
    "        self.add=add\n",
    "        \n",
    "        \n",
    "    def data(self):\n",
    "         print(self.add)\n",
    "        \n",
    "class Info(Data):\n",
    "      def __init__(self,name,age,add):\n",
    "          self.name=name\n",
    "          Data.__init__(self,add)\n",
    "          Age.__init__(self,age)\n",
    "          \n",
    "      def info(self):\n",
    "          print(f\"Hello World I am {self.name}.I am from {self.add}. I am {self.age}\")\n",
    "         \n",
    "name=input('enter name=')\n",
    "age=int(input('enter age='))\n",
    "add=input('enter add=')\n",
    "        \n",
    "obj= Info(name,age,add)\n",
    "obj.info()\n",
    "obj.data()"
   ]
  },
  {
   "cell_type": "code",
   "execution_count": 1,
   "id": "45b9a2a4-df5c-433c-8983-497dd81db98a",
   "metadata": {},
   "outputs": [
    {
     "data": {
      "text/plain": [
       "'C:\\\\Users\\\\dell\\\\8am'"
      ]
     },
     "execution_count": 1,
     "metadata": {},
     "output_type": "execute_result"
    }
   ],
   "source": [
    "pwd\n"
   ]
  },
  {
   "cell_type": "code",
   "execution_count": null,
   "id": "e29b5292-3cda-4a8b-98c1-d301104f6ea1",
   "metadata": {},
   "outputs": [],
   "source": []
  }
 ],
 "metadata": {
  "kernelspec": {
   "display_name": "Python 3 (ipykernel)",
   "language": "python",
   "name": "python3"
  },
  "language_info": {
   "codemirror_mode": {
    "name": "ipython",
    "version": 3
   },
   "file_extension": ".py",
   "mimetype": "text/x-python",
   "name": "python",
   "nbconvert_exporter": "python",
   "pygments_lexer": "ipython3",
   "version": "3.11.7"
  }
 },
 "nbformat": 4,
 "nbformat_minor": 5
}
