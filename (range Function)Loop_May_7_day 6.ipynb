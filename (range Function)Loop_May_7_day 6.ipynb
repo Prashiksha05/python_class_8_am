{
 "cells": [
  {
   "cell_type": "code",
   "execution_count": null,
   "id": "75024153-8ebe-465d-96a7-c9852a884a82",
   "metadata": {},
   "outputs": [],
   "source": [
    "# for loop=(finite, under our control), n number of timed\n",
    "# while loop=(infinite, uncertain), kunai condition apply gare samma\n",
    "#range= kati choti loop lagaune, creates  sequence of numbers  \n",
    "#range(5)=0,1,2,3,4\n",
    "#range (1,5)=1,2,3,4\n",
    "#range(1,5,2)=1 3 \n",
    "#range le integer matra support garxa"
   ]
  },
  {
   "cell_type": "code",
   "execution_count": 1,
   "id": "cc215f1d-b935-47d7-91c6-a34c9c9d0c8b",
   "metadata": {},
   "outputs": [
    {
     "name": "stdout",
     "output_type": "stream",
     "text": [
      "0\n",
      "1\n",
      "2\n",
      "3\n",
      "4\n"
     ]
    }
   ],
   "source": [
    "#for loop\n",
    "for i in range(5):\n",
    "    print(i)"
   ]
  },
  {
   "cell_type": "code",
   "execution_count": 2,
   "id": "b2a00985-af67-4bfb-a664-d012eafab573",
   "metadata": {},
   "outputs": [
    {
     "name": "stdout",
     "output_type": "stream",
     "text": [
      "1\n",
      "2\n",
      "3\n",
      "4\n"
     ]
    }
   ],
   "source": [
    "for i in range(1,5):\n",
    "    print(i)"
   ]
  },
  {
   "cell_type": "code",
   "execution_count": 3,
   "id": "bb4f60d6-712e-4252-87bf-b06e132e528d",
   "metadata": {},
   "outputs": [
    {
     "name": "stdout",
     "output_type": "stream",
     "text": [
      "1\n",
      "3\n"
     ]
    }
   ],
   "source": [
    "for i in range(1,5,2):\n",
    "    print(i)"
   ]
  },
  {
   "cell_type": "code",
   "execution_count": 5,
   "id": "8bb63a40-e049-4647-919a-eeee68fc70db",
   "metadata": {},
   "outputs": [
    {
     "name": "stdout",
     "output_type": "stream",
     "text": [
      "Hello World\n",
      "Hello World\n",
      "Hello World\n",
      "Hello World\n",
      "Hello World\n"
     ]
    }
   ],
   "source": [
    "for i in range(5):\n",
    "    print('Hello World')"
   ]
  },
  {
   "cell_type": "code",
   "execution_count": 6,
   "id": "14161a07-3fe7-4cc7-94e7-49772cedf3a8",
   "metadata": {},
   "outputs": [
    {
     "name": "stdout",
     "output_type": "stream",
     "text": [
      "0 Hello World\n",
      "1 Hello World\n",
      "2 Hello World\n",
      "3 Hello World\n",
      "4 Hello World\n"
     ]
    }
   ],
   "source": [
    "for i in range(5):\n",
    "    print(i,'Hello World')"
   ]
  },
  {
   "cell_type": "code",
   "execution_count": 7,
   "id": "0790517f-e44a-4c9b-90d0-09c806233fd2",
   "metadata": {},
   "outputs": [
    {
     "name": "stdout",
     "output_type": "stream",
     "text": [
      "5\n",
      "10\n",
      "15\n",
      "20\n",
      "25\n",
      "30\n",
      "35\n",
      "40\n",
      "45\n",
      "50\n"
     ]
    }
   ],
   "source": [
    "for i in range(1,11):\n",
    "    print(i*5)"
   ]
  },
  {
   "cell_type": "code",
   "execution_count": 8,
   "id": "1956a34e-650e-498b-b48a-ad1fadca7d1d",
   "metadata": {},
   "outputs": [
    {
     "name": "stdin",
     "output_type": "stream",
     "text": [
      "Enter x= 6\n"
     ]
    },
    {
     "name": "stdout",
     "output_type": "stream",
     "text": [
      "6 * 1 = 6\n",
      "6 * 2 = 12\n",
      "6 * 3 = 18\n",
      "6 * 4 = 24\n",
      "6 * 5 = 30\n",
      "6 * 6 = 36\n",
      "6 * 7 = 42\n",
      "6 * 8 = 48\n",
      "6 * 9 = 54\n",
      "6 * 10 = 60\n"
     ]
    }
   ],
   "source": [
    "x=int(input('Enter x='))\n",
    "for i in range(1,11):\n",
    "    print(x,\"*\",i,\"=\",i*x)\n"
   ]
  },
  {
   "cell_type": "code",
   "execution_count": 12,
   "id": "264903bd-c3b1-4009-a605-09e0c0b6cea6",
   "metadata": {},
   "outputs": [
    {
     "name": "stdin",
     "output_type": "stream",
     "text": [
      "enter x= 1000\n",
      "enter x= 1000\n",
      "enter x= 1000\n",
      "enter x= 1000\n",
      "enter x= 1000\n"
     ]
    },
    {
     "name": "stdout",
     "output_type": "stream",
     "text": [
      "5000\n"
     ]
    }
   ],
   "source": [
    "#kunai variable ma value add garna paryo vane initialize garnu parxa,sum ko ma use 0, multipication ma 1\n",
    "\n",
    "#outside loop ekkaichoti ans dinxa\n",
    "abc=0\n",
    "for i in range(5):\n",
    "    x=int(input('enter x='))\n",
    "    abc=abc+x\n",
    "print(abc)\n",
    "\n",
    "\n",
    "    "
   ]
  },
  {
   "cell_type": "code",
   "execution_count": 13,
   "id": "6b953d05-0a92-434b-ae19-4fdd397a3f17",
   "metadata": {},
   "outputs": [
    {
     "name": "stdin",
     "output_type": "stream",
     "text": [
      "enter x= 12\n"
     ]
    },
    {
     "name": "stdout",
     "output_type": "stream",
     "text": [
      "12\n"
     ]
    },
    {
     "name": "stdin",
     "output_type": "stream",
     "text": [
      "enter x= 12\n"
     ]
    },
    {
     "name": "stdout",
     "output_type": "stream",
     "text": [
      "24\n"
     ]
    },
    {
     "name": "stdin",
     "output_type": "stream",
     "text": [
      "enter x= 12\n"
     ]
    },
    {
     "name": "stdout",
     "output_type": "stream",
     "text": [
      "36\n"
     ]
    },
    {
     "name": "stdin",
     "output_type": "stream",
     "text": [
      "enter x= 35\n"
     ]
    },
    {
     "name": "stdout",
     "output_type": "stream",
     "text": [
      "71\n"
     ]
    },
    {
     "name": "stdin",
     "output_type": "stream",
     "text": [
      "enter x= 345\n"
     ]
    },
    {
     "name": "stdout",
     "output_type": "stream",
     "text": [
      "416\n"
     ]
    }
   ],
   "source": [
    "#loop vitra print garda, each loop ma k vairako cha vanera ans dinxa\n",
    "abc=0 #int()\n",
    "for i in range(5):\n",
    "    x=int(input('enter x='))\n",
    "    abc=abc+x\n",
    "    print(abc)"
   ]
  },
  {
   "cell_type": "code",
   "execution_count": 14,
   "id": "9b0b932c-39e1-4d91-b64c-e8f75f6925ac",
   "metadata": {},
   "outputs": [
    {
     "name": "stdin",
     "output_type": "stream",
     "text": [
      "enter x= ram\n",
      "enter x= sita\n",
      "enter x= gita\n",
      "enter x= lita\n",
      "enter x= pita\n"
     ]
    },
    {
     "name": "stdout",
     "output_type": "stream",
     "text": [
      " ramsitagitalitapita\n"
     ]
    }
   ],
   "source": [
    "abc= \" \" # str()\n",
    "for i in range(5):\n",
    "    x=(input('enter x='))\n",
    "    abc=abc+x\n",
    "print(abc)"
   ]
  },
  {
   "cell_type": "code",
   "execution_count": null,
   "id": "0196f85b-abbd-4cff-b9fc-e405905ec2d6",
   "metadata": {},
   "outputs": [],
   "source": [
    "abc=\"\"\n",
    "for i in range(5):\n",
    "    x=(input('enter x='))\n",
    "    abc=abc +x \"\\n\"\n",
    "print(abc)"
   ]
  },
  {
   "cell_type": "code",
   "execution_count": 16,
   "id": "429b2236-c2e9-43fa-ad2c-a743eb6d5785",
   "metadata": {},
   "outputs": [
    {
     "name": "stdin",
     "output_type": "stream",
     "text": [
      "enter n= 23\n",
      "enter x= ram\n",
      "enter x= shyam\n",
      "enter x= hari\n",
      "enter x= \n",
      "enter x= \n"
     ]
    },
    {
     "name": "stdout",
     "output_type": "stream",
     "text": [
      "ram\n",
      "shyam\n",
      "hari\n",
      "\n",
      "\n",
      "\n"
     ]
    }
   ],
   "source": [
    "abc=\"\"\n",
    "n=int(input('enter n='))\n",
    "for i in range(5):\n",
    "    x=(input('enter x='))\n",
    "    abc=abc +x+\"\\n\"\n",
    "print(abc)\n"
   ]
  },
  {
   "cell_type": "code",
   "execution_count": 5,
   "id": "94029b8d-66fb-4e7e-991e-3cc0dc8b3271",
   "metadata": {},
   "outputs": [
    {
     "name": "stdin",
     "output_type": "stream",
     "text": [
      "enter n= 2\n",
      "enter name= dffg\n",
      "enter phone= 343434\n",
      "enter name= dfgd\n",
      "enter phone= 345345\n"
     ]
    },
    {
     "name": "stdout",
     "output_type": "stream",
     "text": [
      "dffg 343434\n",
      "dfgd 345345\n",
      "\n"
     ]
    }
   ],
   "source": [
    "contact=\"\"\n",
    "n=int(input('enter n='))\n",
    "for i in range(n):\n",
    "    name=input('enter name=')\n",
    "    phone=int(input('enter phone='))\n",
    "    contact= contact+ name+ \" \"+ str(phone) +\"\\n\"\n",
    "    \n",
    "print(contact)\n",
    "\n"
   ]
  },
  {
   "cell_type": "code",
   "execution_count": null,
   "id": "b5ddb5f5-eb65-43ac-a004-e05c74611f29",
   "metadata": {},
   "outputs": [],
   "source": [
    "#5! = 1*2*3*4*5"
   ]
  },
  {
   "cell_type": "code",
   "execution_count": 7,
   "id": "fa6d287d-adbd-43c7-a716-89671ca3b356",
   "metadata": {},
   "outputs": [
    {
     "name": "stdin",
     "output_type": "stream",
     "text": [
      "Enter n= 5\n"
     ]
    },
    {
     "name": "stdout",
     "output_type": "stream",
     "text": [
      "120\n"
     ]
    }
   ],
   "source": [
    "fac=1\n",
    "n=int(input('Enter n='))\n",
    "for i in range(1,n+1):\n",
    "    fac= fac*i\n",
    "print(fac)\n",
    "    "
   ]
  },
  {
   "cell_type": "code",
   "execution_count": 12,
   "id": "34af7eba-5b77-45d1-8bd6-83908ae6ace6",
   "metadata": {},
   "outputs": [
    {
     "name": "stdin",
     "output_type": "stream",
     "text": [
      "Enter n= 5\n"
     ]
    },
    {
     "name": "stdout",
     "output_type": "stream",
     "text": [
      "1\n",
      "2\n",
      "6\n",
      "24\n",
      "120\n"
     ]
    }
   ],
   "source": [
    "fac=1\n",
    "n=int(input('Enter n='))\n",
    "for i in range(1,n+1):\n",
    "    fac= fac*i\n",
    "    print(fac)\n",
    "    \n",
    "     "
   ]
  },
  {
   "cell_type": "code",
   "execution_count": 14,
   "id": "98d1b474-fa3a-46ff-a7a0-9441b1326c86",
   "metadata": {},
   "outputs": [
    {
     "name": "stdout",
     "output_type": "stream",
     "text": [
      "\n",
      "o\n",
      "oo\n",
      "ooo\n",
      "oooo\n",
      "ooooo\n",
      "oooooo\n",
      "ooooooo\n",
      "oooooooo\n",
      "ooooooooo\n"
     ]
    }
   ],
   "source": [
    "for i in range(10):\n",
    "    print(i*'o')"
   ]
  },
  {
   "cell_type": "code",
   "execution_count": null,
   "id": "ac206cc8-e348-492e-a3af-45781f87af50",
   "metadata": {},
   "outputs": [],
   "source": []
  },
  {
   "cell_type": "code",
   "execution_count": null,
   "id": "ae11b34c-3608-4e43-9b41-0f20d539c919",
   "metadata": {},
   "outputs": [],
   "source": [
    "n=10\n",
    "for i in range(10):\n",
    "    print(( n-1)*i*'o')"
   ]
  },
  {
   "cell_type": "code",
   "execution_count": 16,
   "id": "2328c52f-7f59-4fd8-8654-f4c5710350ec",
   "metadata": {},
   "outputs": [
    {
     "name": "stdout",
     "output_type": "stream",
     "text": [
      "           \n",
      "          oo\n",
      "         oooo\n",
      "        oooooo\n",
      "       oooooooo\n",
      "      oooooooooo\n",
      "     oooooooooooo\n",
      "    oooooooooooooo\n",
      "   oooooooooooooooo\n",
      "  oooooooooooooooooo\n",
      "        ooooo\n",
      "        ooooo\n",
      "        ooooo\n",
      "        ooooo\n",
      "        ooooo\n"
     ]
    }
   ],
   "source": [
    "\n",
    "n=10\n",
    "for i in range(10):\n",
    "    print(( n-i)*\" \",2 *(i*'o'))\n",
    "for i in range(5):\n",
    "    print(7*\" \",5*\"o\")\n",
    " \n"
   ]
  },
  {
   "cell_type": "code",
   "execution_count": null,
   "id": "9eecee36-8760-4353-b1f9-1e4192ffb74d",
   "metadata": {},
   "outputs": [],
   "source": [
    "WAP to make billing system\n",
    "name=?\n",
    "price=?\n",
    "quantity=?\n",
    "total=? (individual ko total)\n"
   ]
  },
  {
   "cell_type": "code",
   "execution_count": null,
   "id": "c95684d3-0bae-4f62-8456-884477a7c8a9",
   "metadata": {},
   "outputs": [],
   "source": [
    "bill=\"\"\n",
    "n=int(input('enter n='))\n",
    "for i in range(n):\n",
    "    item=input('enter item=')\n",
    "    price=int(input('enter price='))\n",
    "    quantity=int(input('enter quantity='))\n",
    "    number=int(input('enter number='))\n",
    "    total=int(quantity*number)\n",
    "bill= bill+str(item)+' '+price+ ' '+ quantity+' '+number +'\\n'\n",
    "print(bill)"
   ]
  },
  {
   "cell_type": "code",
   "execution_count": 9,
   "id": "272ec569-4e90-4b52-beed-7bef1273bc71",
   "metadata": {},
   "outputs": [
    {
     "name": "stdin",
     "output_type": "stream",
     "text": [
      "enter n= 2\n",
      "enter item= coke\n",
      "enter price= 2\n",
      "enter quantity= 2\n",
      "enter item= lays\n",
      "enter price= 2\n",
      "enter quantity= 2\n"
     ]
    },
    {
     "name": "stdout",
     "output_type": "stream",
     "text": [
      "coke 2 2 4\n",
      "lays 2 2 4\n",
      "\n"
     ]
    }
   ],
   "source": [
    "bill=''\n",
    "n=int(input('enter n='))\n",
    "for i in range(n):\n",
    "    item=input('enter item=')\n",
    "    price=int(input('enter price='))\n",
    "    quantity=int(input('enter quantity='))\n",
    "    total=price*quantity\n",
    "    bill= bill+str(item)+' '+str(price)+ ' '+str(quantity)+' '+str(total)+'\\n'\n",
    "\n",
    "print(bill)"
   ]
  },
  {
   "cell_type": "code",
   "execution_count": 5,
   "id": "32304dfd-c098-4a6e-8d69-d39202a8a1d1",
   "metadata": {},
   "outputs": [
    {
     "name": "stdin",
     "output_type": "stream",
     "text": [
      "Enter n=  2\n",
      "Enter item=  coke\n",
      "Enter price=  25\n",
      "Enter quantity=  2\n",
      "Enter item=  lays\n",
      "Enter price=  40\n",
      "Enter quantity=  3\n"
     ]
    },
    {
     "name": "stdout",
     "output_type": "stream",
     "text": [
      ".........Prashiksha SuperMart..........\n",
      "coke 25 2 50\n",
      "lays 40 3 120\n",
      "\n",
      "170\n",
      "######Thankyou for shopping with us######\n"
     ]
    }
   ],
   "source": [
    "bill = ''\n",
    "n = int(input('Enter n= '))\n",
    "all_total=0\n",
    "for i in range(n):\n",
    "    item = input('Enter item= ')\n",
    "    price = int(input('Enter price= '))\n",
    "    quantity = int(input('Enter quantity= '))\n",
    "    total = price * quantity\n",
    "    bill = bill +'    ' str(item) + ' ' + str(price) + ' ' + str(quantity) + ' ' + str(total) + '\\n'\n",
    "    all_total=all_total+total\n",
    "print(\".........Prashiksha SuperMart..........\")  \n",
    "print(bill)\n",
    "print(all_total)\n",
    "print('######Thankyou for shopping with us######')"
   ]
  },
  {
   "cell_type": "code",
   "execution_count": null,
   "id": "49973f51-6fa2-4547-8719-3587b11dfcaa",
   "metadata": {},
   "outputs": [],
   "source": []
  }
 ],
 "metadata": {
  "kernelspec": {
   "display_name": "Python 3 (ipykernel)",
   "language": "python",
   "name": "python3"
  },
  "language_info": {
   "codemirror_mode": {
    "name": "ipython",
    "version": 3
   },
   "file_extension": ".py",
   "mimetype": "text/x-python",
   "name": "python",
   "nbconvert_exporter": "python",
   "pygments_lexer": "ipython3",
   "version": "3.11.7"
  }
 },
 "nbformat": 4,
 "nbformat_minor": 5
}
